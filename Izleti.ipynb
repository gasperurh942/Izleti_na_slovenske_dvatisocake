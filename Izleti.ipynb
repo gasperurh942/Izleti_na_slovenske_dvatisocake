{
 "cells": [
  {
   "cell_type": "code",
   "execution_count": 33,
   "metadata": {
    "collapsed": true
   },
   "outputs": [],
   "source": [
    "import pandas as pd\n",
    "import orodja\n",
    "%matplotlib inline"
   ]
  },
  {
   "cell_type": "code",
   "execution_count": 34,
   "metadata": {
    "collapsed": true
   },
   "outputs": [],
   "source": [
    "izleti = pd.read_csv(\"izleti.csv\", encoding='utf-8')"
   ]
  },
  {
   "cell_type": "markdown",
   "metadata": {},
   "source": [
    "# Izleti na slovenske dvatisočake\n",
    "Kot zaveden Slovenec se zavedam edinstvenosti slovenskega pogorja, danosti, ki je nima vsak narod. Doma sem s praga Alp, ki gostijo vse dvatisočake na našem ozemlju, in sem navdušen pohodnik, zato rad uporabljam spletni portal hribi.net, kjer so uporabni opisi dostopov na vse slovenske in okoliške bisere. Ker Šmarna gora ni gora, sem se pri razčlenjevanju podatkov omejil na izlete, ki nas ponesejo nad dvokilometrsko mejo nad morjem.\n",
    "\n",
    "Na začetku sem pomislil, kakšne informacije bi me kot pohodnika zanimale. Zagotovo najprej pogledamo cilj in izhodišče, nadmorsko višino, višino izhodišča in izračunamo višinsko razliko (pri mnogih izletih to ni edina višinska razlika, ki jo je treba premagati, zato nam hribi.net ponudijo tudi višinsko razliko po poti, ki vključuje vmesne vzpone in spuste). Poleg osnovnih podatkov pa me je zanimalo, kako določeno pot (ne samo cilj, ta ni prvotnega pomena) vidimo planinci, zato sem s spleta prenesel še podatke o številu ogledov posameznega izleta in oceni (da bi zagotovil primerno zadržanost do podatkov sem moral dodati tudi število ocen). Temu sem dodal še vrsto cilja, časovno vrednost dolžine poti in zemljepisne koordinate cilja.\n",
    "\n",
    "Moj namen je analizirati zahtevnosti poti (glede na nadmorsko višino), poiskati najbolj prepredena alpska območja, njihovo zanimivost za planince (glede na višinsko razliko, čas hoje, lokacijo, vrsto cilja ...) in druge zanimive podatke."
   ]
  },
  {
   "cell_type": "code",
   "execution_count": 35,
   "metadata": {},
   "outputs": [
    {
     "data": {
      "text/html": [
       "<div>\n",
       "<style>\n",
       "    .dataframe thead tr:only-child th {\n",
       "        text-align: right;\n",
       "    }\n",
       "\n",
       "    .dataframe thead th {\n",
       "        text-align: left;\n",
       "    }\n",
       "\n",
       "    .dataframe tbody tr th {\n",
       "        vertical-align: top;\n",
       "    }\n",
       "</style>\n",
       "<table border=\"1\" class=\"dataframe\">\n",
       "  <thead>\n",
       "    <tr style=\"text-align: right;\">\n",
       "      <th></th>\n",
       "      <th>gorovje</th>\n",
       "      <th>izhodišče</th>\n",
       "      <th>višina_izhodišča</th>\n",
       "      <th>cilj</th>\n",
       "      <th>višina_cilja</th>\n",
       "      <th>opomba_poti</th>\n",
       "      <th>čas_hoje</th>\n",
       "      <th>zahtevnost</th>\n",
       "      <th>višinska_razlika_po_poti</th>\n",
       "      <th>število_ogledov</th>\n",
       "      <th>ocena</th>\n",
       "      <th>število_glasov</th>\n",
       "      <th>širina_cilja</th>\n",
       "      <th>dolžina_cilja</th>\n",
       "      <th>vrsta_cilja</th>\n",
       "    </tr>\n",
       "  </thead>\n",
       "  <tbody>\n",
       "    <tr>\n",
       "      <th>0</th>\n",
       "      <td>Julijske Alpe</td>\n",
       "      <td>Stara Fužina</td>\n",
       "      <td>600</td>\n",
       "      <td>Triglav</td>\n",
       "      <td>2864</td>\n",
       "      <td>čez Planiko in Triglavsko škrbino</td>\n",
       "      <td>450</td>\n",
       "      <td>zelo zahtevna označena pot</td>\n",
       "      <td>2264</td>\n",
       "      <td>19345</td>\n",
       "      <td>7</td>\n",
       "      <td>1</td>\n",
       "      <td>46,37832</td>\n",
       "      <td>13,83648</td>\n",
       "      <td>vrh, bivak</td>\n",
       "    </tr>\n",
       "    <tr>\n",
       "      <th>1</th>\n",
       "      <td>Julijske Alpe</td>\n",
       "      <td>Rudno polje</td>\n",
       "      <td>1347</td>\n",
       "      <td>Triglav</td>\n",
       "      <td>2864</td>\n",
       "      <td>čez Kredarico</td>\n",
       "      <td>380</td>\n",
       "      <td>zelo zahtevna označena pot</td>\n",
       "      <td>1900</td>\n",
       "      <td>74961</td>\n",
       "      <td>9</td>\n",
       "      <td>4</td>\n",
       "      <td>46,37832</td>\n",
       "      <td>13,83648</td>\n",
       "      <td>vrh, bivak</td>\n",
       "    </tr>\n",
       "    <tr>\n",
       "      <th>2</th>\n",
       "      <td>Julijske Alpe</td>\n",
       "      <td>Aljažev dom v Vratih</td>\n",
       "      <td>1015</td>\n",
       "      <td>Triglav</td>\n",
       "      <td>2864</td>\n",
       "      <td>Tominškova pot</td>\n",
       "      <td>350</td>\n",
       "      <td>zelo zahtevna označena pot</td>\n",
       "      <td>1849</td>\n",
       "      <td>219792</td>\n",
       "      <td>8</td>\n",
       "      <td>13</td>\n",
       "      <td>46,37832</td>\n",
       "      <td>13,83648</td>\n",
       "      <td>vrh, bivak</td>\n",
       "    </tr>\n",
       "    <tr>\n",
       "      <th>3</th>\n",
       "      <td>Julijske Alpe</td>\n",
       "      <td>Aljažev dom v Vratih</td>\n",
       "      <td>1015</td>\n",
       "      <td>Triglav</td>\n",
       "      <td>2864</td>\n",
       "      <td>čez Prag</td>\n",
       "      <td>360</td>\n",
       "      <td>zelo zahtevna označena pot</td>\n",
       "      <td>1850</td>\n",
       "      <td>123470</td>\n",
       "      <td>9</td>\n",
       "      <td>12</td>\n",
       "      <td>46,37832</td>\n",
       "      <td>13,83648</td>\n",
       "      <td>vrh, bivak</td>\n",
       "    </tr>\n",
       "    <tr>\n",
       "      <th>4</th>\n",
       "      <td>Julijske Alpe</td>\n",
       "      <td>Aljažev dom v Vratih</td>\n",
       "      <td>1015</td>\n",
       "      <td>Triglav</td>\n",
       "      <td>2864</td>\n",
       "      <td>čez Plemenice</td>\n",
       "      <td>390</td>\n",
       "      <td>zelo zahtevna označena pot</td>\n",
       "      <td>1849</td>\n",
       "      <td>118601</td>\n",
       "      <td>9</td>\n",
       "      <td>13</td>\n",
       "      <td>46,37832</td>\n",
       "      <td>13,83648</td>\n",
       "      <td>vrh, bivak</td>\n",
       "    </tr>\n",
       "    <tr>\n",
       "      <th>5</th>\n",
       "      <td>Julijske Alpe</td>\n",
       "      <td>Dolina Kot</td>\n",
       "      <td>950</td>\n",
       "      <td>Triglav</td>\n",
       "      <td>2864</td>\n",
       "      <td>NaN</td>\n",
       "      <td>360</td>\n",
       "      <td>zelo zahtevna označena pot</td>\n",
       "      <td>2050</td>\n",
       "      <td>41559</td>\n",
       "      <td>8</td>\n",
       "      <td>8</td>\n",
       "      <td>46,37832</td>\n",
       "      <td>13,83648</td>\n",
       "      <td>vrh, bivak</td>\n",
       "    </tr>\n",
       "    <tr>\n",
       "      <th>6</th>\n",
       "      <td>Julijske Alpe</td>\n",
       "      <td>Dolina Krma</td>\n",
       "      <td>930</td>\n",
       "      <td>Triglav</td>\n",
       "      <td>2864</td>\n",
       "      <td>čez Kredarico</td>\n",
       "      <td>360</td>\n",
       "      <td>zelo zahtevna označena pot</td>\n",
       "      <td>1934</td>\n",
       "      <td>112269</td>\n",
       "      <td>8</td>\n",
       "      <td>5</td>\n",
       "      <td>46,37832</td>\n",
       "      <td>13,83648</td>\n",
       "      <td>vrh, bivak</td>\n",
       "    </tr>\n",
       "    <tr>\n",
       "      <th>7</th>\n",
       "      <td>Julijske Alpe</td>\n",
       "      <td>Dolina Krma</td>\n",
       "      <td>930</td>\n",
       "      <td>Triglav</td>\n",
       "      <td>2864</td>\n",
       "      <td>čez Planiko in Mali Triglav</td>\n",
       "      <td>360</td>\n",
       "      <td>zelo zahtevna označena pot</td>\n",
       "      <td>1934</td>\n",
       "      <td>114066</td>\n",
       "      <td>9</td>\n",
       "      <td>7</td>\n",
       "      <td>46,37832</td>\n",
       "      <td>13,83648</td>\n",
       "      <td>vrh, bivak</td>\n",
       "    </tr>\n",
       "    <tr>\n",
       "      <th>8</th>\n",
       "      <td>Julijske Alpe</td>\n",
       "      <td>Dolina Krma</td>\n",
       "      <td>930</td>\n",
       "      <td>Triglav</td>\n",
       "      <td>2864</td>\n",
       "      <td>čez Planiko in Triglavsko škrbino</td>\n",
       "      <td>345</td>\n",
       "      <td>zelo zahtevna označena pot</td>\n",
       "      <td>1934</td>\n",
       "      <td>34269</td>\n",
       "      <td>8</td>\n",
       "      <td>4</td>\n",
       "      <td>46,37832</td>\n",
       "      <td>13,83648</td>\n",
       "      <td>vrh, bivak</td>\n",
       "    </tr>\n",
       "    <tr>\n",
       "      <th>9</th>\n",
       "      <td>Julijske Alpe</td>\n",
       "      <td>Konec ceste na Pokljuki</td>\n",
       "      <td>1340</td>\n",
       "      <td>Triglav</td>\n",
       "      <td>2864</td>\n",
       "      <td>čez Kredarico</td>\n",
       "      <td>360</td>\n",
       "      <td>zelo zahtevna označena pot</td>\n",
       "      <td>1650</td>\n",
       "      <td>50305</td>\n",
       "      <td>9</td>\n",
       "      <td>7</td>\n",
       "      <td>46,37832</td>\n",
       "      <td>13,83648</td>\n",
       "      <td>vrh, bivak</td>\n",
       "    </tr>\n",
       "  </tbody>\n",
       "</table>\n",
       "</div>"
      ],
      "text/plain": [
       "         gorovje                izhodišče  višina_izhodišča     cilj  \\\n",
       "0  Julijske Alpe             Stara Fužina               600  Triglav   \n",
       "1  Julijske Alpe              Rudno polje              1347  Triglav   \n",
       "2  Julijske Alpe     Aljažev dom v Vratih              1015  Triglav   \n",
       "3  Julijske Alpe     Aljažev dom v Vratih              1015  Triglav   \n",
       "4  Julijske Alpe     Aljažev dom v Vratih              1015  Triglav   \n",
       "5  Julijske Alpe               Dolina Kot               950  Triglav   \n",
       "6  Julijske Alpe              Dolina Krma               930  Triglav   \n",
       "7  Julijske Alpe              Dolina Krma               930  Triglav   \n",
       "8  Julijske Alpe              Dolina Krma               930  Triglav   \n",
       "9  Julijske Alpe  Konec ceste na Pokljuki              1340  Triglav   \n",
       "\n",
       "   višina_cilja                        opomba_poti  čas_hoje  \\\n",
       "0          2864  čez Planiko in Triglavsko škrbino       450   \n",
       "1          2864                      čez Kredarico       380   \n",
       "2          2864                     Tominškova pot       350   \n",
       "3          2864                           čez Prag       360   \n",
       "4          2864                      čez Plemenice       390   \n",
       "5          2864                                NaN       360   \n",
       "6          2864                      čez Kredarico       360   \n",
       "7          2864        čez Planiko in Mali Triglav       360   \n",
       "8          2864  čez Planiko in Triglavsko škrbino       345   \n",
       "9          2864                      čez Kredarico       360   \n",
       "\n",
       "                   zahtevnost  višinska_razlika_po_poti  število_ogledov  \\\n",
       "0  zelo zahtevna označena pot                      2264            19345   \n",
       "1  zelo zahtevna označena pot                      1900            74961   \n",
       "2  zelo zahtevna označena pot                      1849           219792   \n",
       "3  zelo zahtevna označena pot                      1850           123470   \n",
       "4  zelo zahtevna označena pot                      1849           118601   \n",
       "5  zelo zahtevna označena pot                      2050            41559   \n",
       "6  zelo zahtevna označena pot                      1934           112269   \n",
       "7  zelo zahtevna označena pot                      1934           114066   \n",
       "8  zelo zahtevna označena pot                      1934            34269   \n",
       "9  zelo zahtevna označena pot                      1650            50305   \n",
       "\n",
       "   ocena  število_glasov širina_cilja dolžina_cilja vrsta_cilja  \n",
       "0      7               1     46,37832      13,83648  vrh, bivak  \n",
       "1      9               4     46,37832      13,83648  vrh, bivak  \n",
       "2      8              13     46,37832      13,83648  vrh, bivak  \n",
       "3      9              12     46,37832      13,83648  vrh, bivak  \n",
       "4      9              13     46,37832      13,83648  vrh, bivak  \n",
       "5      8               8     46,37832      13,83648  vrh, bivak  \n",
       "6      8               5     46,37832      13,83648  vrh, bivak  \n",
       "7      9               7     46,37832      13,83648  vrh, bivak  \n",
       "8      8               4     46,37832      13,83648  vrh, bivak  \n",
       "9      9               7     46,37832      13,83648  vrh, bivak  "
      ]
     },
     "execution_count": 35,
     "metadata": {},
     "output_type": "execute_result"
    }
   ],
   "source": [
    "izleti.head(10)"
   ]
  },
  {
   "cell_type": "markdown",
   "metadata": {},
   "source": [
    "## Nekaj osnovnih podatkov o pristopih na gore\n",
    "\n",
    "### Število izletov v posameznem gorovju"
   ]
  },
  {
   "cell_type": "code",
   "execution_count": 36,
   "metadata": {},
   "outputs": [
    {
     "data": {
      "text/plain": [
       "gorovje\n",
       "Julijske Alpe              551\n",
       "Kamniško Savinjske Alpe    236\n",
       "Karavanke                  147\n",
       "dtype: int64"
      ]
     },
     "execution_count": 36,
     "metadata": {},
     "output_type": "execute_result"
    }
   ],
   "source": [
    "izleti.groupby('gorovje').size()"
   ]
  },
  {
   "cell_type": "markdown",
   "metadata": {},
   "source": [
    "### Cilji z največ možnimi potmi"
   ]
  },
  {
   "cell_type": "code",
   "execution_count": 37,
   "metadata": {},
   "outputs": [
    {
     "data": {
      "text/plain": [
       "cilj\n",
       "Storžič                     30\n",
       "Triglav                     26\n",
       "Viševnik                    21\n",
       "Stol                        20\n",
       "Ojstrica                    17\n",
       "Prešernova koča na Stolu    14\n",
       "Begunjščica                 14\n",
       "Kordeževa glava (Peca)      14\n",
       "Grintovec                   14\n",
       "Jezerska Kočna              14\n",
       "Debela peč                  13\n",
       "Kalški greben               13\n",
       "Planjava                    12\n",
       "Krn                         12\n",
       "Prisank / Prisojnik         12\n",
       "dtype: int64"
      ]
     },
     "execution_count": 37,
     "metadata": {},
     "output_type": "execute_result"
    }
   ],
   "source": [
    "st_poti_na_cilj = izleti.groupby('cilj').size()\n",
    "st_poti_na_cilj.sort_values(ascending=False).head(15)"
   ]
  },
  {
   "cell_type": "markdown",
   "metadata": {},
   "source": [
    "## Višinska razlika"
   ]
  },
  {
   "cell_type": "code",
   "execution_count": 38,
   "metadata": {
    "collapsed": true
   },
   "outputs": [],
   "source": [
    "izleti[\"višinska_razlika\"] = izleti[\"višina_cilja\"] - izleti['višina_izhodišča']"
   ]
  },
  {
   "cell_type": "code",
   "execution_count": 39,
   "metadata": {},
   "outputs": [
    {
     "data": {
      "text/html": [
       "<div>\n",
       "<style>\n",
       "    .dataframe thead tr:only-child th {\n",
       "        text-align: right;\n",
       "    }\n",
       "\n",
       "    .dataframe thead th {\n",
       "        text-align: left;\n",
       "    }\n",
       "\n",
       "    .dataframe tbody tr th {\n",
       "        vertical-align: top;\n",
       "    }\n",
       "</style>\n",
       "<table border=\"1\" class=\"dataframe\">\n",
       "  <thead>\n",
       "    <tr style=\"text-align: right;\">\n",
       "      <th></th>\n",
       "      <th>izhodišče</th>\n",
       "      <th>višina_izhodišča</th>\n",
       "      <th>cilj</th>\n",
       "      <th>višina_cilja</th>\n",
       "      <th>višinska_razlika</th>\n",
       "      <th>opomba_poti</th>\n",
       "    </tr>\n",
       "  </thead>\n",
       "  <tbody>\n",
       "    <tr>\n",
       "      <th>22</th>\n",
       "      <td>Srednja vas</td>\n",
       "      <td>583</td>\n",
       "      <td>Triglav</td>\n",
       "      <td>2864</td>\n",
       "      <td>2281</td>\n",
       "      <td>Za Ribnico in čez Triglavsko škrbino</td>\n",
       "    </tr>\n",
       "    <tr>\n",
       "      <th>12</th>\n",
       "      <td>Stara Fužina</td>\n",
       "      <td>600</td>\n",
       "      <td>Triglav</td>\n",
       "      <td>2864</td>\n",
       "      <td>2264</td>\n",
       "      <td>čez Planiko in Mali Triglav</td>\n",
       "    </tr>\n",
       "    <tr>\n",
       "      <th>0</th>\n",
       "      <td>Stara Fužina</td>\n",
       "      <td>600</td>\n",
       "      <td>Triglav</td>\n",
       "      <td>2864</td>\n",
       "      <td>2264</td>\n",
       "      <td>čez Planiko in Triglavsko škrbino</td>\n",
       "    </tr>\n",
       "    <tr>\n",
       "      <th>13</th>\n",
       "      <td>Zadnjica</td>\n",
       "      <td>650</td>\n",
       "      <td>Triglav</td>\n",
       "      <td>2864</td>\n",
       "      <td>2214</td>\n",
       "      <td>čez Plemenice</td>\n",
       "    </tr>\n",
       "    <tr>\n",
       "      <th>16</th>\n",
       "      <td>Zadnjica</td>\n",
       "      <td>650</td>\n",
       "      <td>Triglav</td>\n",
       "      <td>2864</td>\n",
       "      <td>2214</td>\n",
       "      <td>čez Komar</td>\n",
       "    </tr>\n",
       "    <tr>\n",
       "      <th>14</th>\n",
       "      <td>Zadnjica</td>\n",
       "      <td>650</td>\n",
       "      <td>Triglav</td>\n",
       "      <td>2864</td>\n",
       "      <td>2214</td>\n",
       "      <td>čez Dolič</td>\n",
       "    </tr>\n",
       "    <tr>\n",
       "      <th>18</th>\n",
       "      <td>Koča pri Savici</td>\n",
       "      <td>653</td>\n",
       "      <td>Triglav</td>\n",
       "      <td>2864</td>\n",
       "      <td>2211</td>\n",
       "      <td>čez Triglavska jezera</td>\n",
       "    </tr>\n",
       "    <tr>\n",
       "      <th>197</th>\n",
       "      <td>Zadnjica</td>\n",
       "      <td>650</td>\n",
       "      <td>Škrlatica</td>\n",
       "      <td>2740</td>\n",
       "      <td>2090</td>\n",
       "      <td>NaN</td>\n",
       "    </tr>\n",
       "    <tr>\n",
       "      <th>198</th>\n",
       "      <td>Gozd Martuljek</td>\n",
       "      <td>750</td>\n",
       "      <td>Škrlatica</td>\n",
       "      <td>2740</td>\n",
       "      <td>1990</td>\n",
       "      <td>grebensko prečenje Mali Oltar-Škrlatica</td>\n",
       "    </tr>\n",
       "    <tr>\n",
       "      <th>533</th>\n",
       "      <td>Zadnjica</td>\n",
       "      <td>650</td>\n",
       "      <td>Razor</td>\n",
       "      <td>2601</td>\n",
       "      <td>1951</td>\n",
       "      <td>NaN</td>\n",
       "    </tr>\n",
       "    <tr>\n",
       "      <th>451</th>\n",
       "      <td>Bavšica</td>\n",
       "      <td>698</td>\n",
       "      <td>Jalovec</td>\n",
       "      <td>2645</td>\n",
       "      <td>1947</td>\n",
       "      <td>NaN</td>\n",
       "    </tr>\n",
       "    <tr>\n",
       "      <th>6</th>\n",
       "      <td>Dolina Krma</td>\n",
       "      <td>930</td>\n",
       "      <td>Triglav</td>\n",
       "      <td>2864</td>\n",
       "      <td>1934</td>\n",
       "      <td>čez Kredarico</td>\n",
       "    </tr>\n",
       "    <tr>\n",
       "      <th>7</th>\n",
       "      <td>Dolina Krma</td>\n",
       "      <td>930</td>\n",
       "      <td>Triglav</td>\n",
       "      <td>2864</td>\n",
       "      <td>1934</td>\n",
       "      <td>čez Planiko in Mali Triglav</td>\n",
       "    </tr>\n",
       "    <tr>\n",
       "      <th>8</th>\n",
       "      <td>Dolina Krma</td>\n",
       "      <td>930</td>\n",
       "      <td>Triglav</td>\n",
       "      <td>2864</td>\n",
       "      <td>1934</td>\n",
       "      <td>čez Planiko in Triglavsko škrbino</td>\n",
       "    </tr>\n",
       "    <tr>\n",
       "      <th>19</th>\n",
       "      <td>Turkov rovt</td>\n",
       "      <td>941</td>\n",
       "      <td>Triglav</td>\n",
       "      <td>2864</td>\n",
       "      <td>1923</td>\n",
       "      <td>po dolini Za Cmirom</td>\n",
       "    </tr>\n",
       "  </tbody>\n",
       "</table>\n",
       "</div>"
      ],
      "text/plain": [
       "           izhodišče  višina_izhodišča       cilj  višina_cilja  \\\n",
       "22       Srednja vas               583    Triglav          2864   \n",
       "12      Stara Fužina               600    Triglav          2864   \n",
       "0       Stara Fužina               600    Triglav          2864   \n",
       "13          Zadnjica               650    Triglav          2864   \n",
       "16          Zadnjica               650    Triglav          2864   \n",
       "14          Zadnjica               650    Triglav          2864   \n",
       "18   Koča pri Savici               653    Triglav          2864   \n",
       "197         Zadnjica               650  Škrlatica          2740   \n",
       "198  Gozd Martuljek                750  Škrlatica          2740   \n",
       "533         Zadnjica               650      Razor          2601   \n",
       "451          Bavšica               698    Jalovec          2645   \n",
       "6        Dolina Krma               930    Triglav          2864   \n",
       "7        Dolina Krma               930    Triglav          2864   \n",
       "8        Dolina Krma               930    Triglav          2864   \n",
       "19      Turkov rovt                941    Triglav          2864   \n",
       "\n",
       "     višinska_razlika                              opomba_poti  \n",
       "22               2281     Za Ribnico in čez Triglavsko škrbino  \n",
       "12               2264              čez Planiko in Mali Triglav  \n",
       "0                2264        čez Planiko in Triglavsko škrbino  \n",
       "13               2214                            čez Plemenice  \n",
       "16               2214                                čez Komar  \n",
       "14               2214                                čez Dolič  \n",
       "18               2211                    čez Triglavska jezera  \n",
       "197              2090                                      NaN  \n",
       "198              1990  grebensko prečenje Mali Oltar-Škrlatica  \n",
       "533              1951                                      NaN  \n",
       "451              1947                                      NaN  \n",
       "6                1934                            čez Kredarico  \n",
       "7                1934              čez Planiko in Mali Triglav  \n",
       "8                1934        čez Planiko in Triglavsko škrbino  \n",
       "19               1923                      po dolini Za Cmirom  "
      ]
     },
     "execution_count": 39,
     "metadata": {},
     "output_type": "execute_result"
    }
   ],
   "source": [
    "izleti.sort_values(\n",
    "    'višinska_razlika', ascending=False\n",
    ").head(15)[\n",
    "    ['izhodišče','višina_izhodišča', 'cilj', 'višina_cilja', 'višinska_razlika', 'opomba_poti']\n",
    "]"
   ]
  },
  {
   "cell_type": "markdown",
   "metadata": {},
   "source": [
    "### Povprečna višinska razlika pri pristopu na posamezno goro"
   ]
  },
  {
   "cell_type": "code",
   "execution_count": 40,
   "metadata": {},
   "outputs": [
    {
     "data": {
      "text/plain": [
       "cilj\n",
       "Škrlatica                              1886.2\n",
       "Triglav                                1877.8\n",
       "Mišeljski Konec                        1814.0\n",
       "Mala Martuljška Ponca                  1751.0\n",
       "Široka peč                             1747.0\n",
       "Mali Triglav                           1731.7\n",
       "Visoki Rokav                           1705.0\n",
       "Morbegna                               1704.3\n",
       "Mišelj vrh                             1700.0\n",
       "Glava v Zaplanji                       1690.5\n",
       "Kanjavec (Zahodni vrh)                 1670.5\n",
       "Veliki Oltar                           1650.5\n",
       "Briceljk                               1648.0\n",
       "Mali Ozebnik                           1626.0\n",
       "Kanjavec                               1619.5\n",
       "Dolkova špica                          1612.0\n",
       "Kukova špica                           1607.0\n",
       "Grintovec                              1603.6\n",
       "Plaski Vogel                           1603.0\n",
       "Velika Martuljška Ponca                1602.0\n",
       "Dovški križ                            1601.0\n",
       "Stenar                                 1595.0\n",
       "Pihavec                                1586.5\n",
       "Skuta                                  1586.3\n",
       "Jezerska Kočna                         1585.4\n",
       "Bavški Grintavec                       1580.3\n",
       "Kokrska Kočna                          1572.1\n",
       "Veliko Špičje                          1562.3\n",
       "Rž                                     1557.0\n",
       "Vodnikov Vršac (Vršac nad Zadnjico)    1554.0\n",
       "                                        ...  \n",
       "Kreda                                   878.0\n",
       "Eva                                     872.0\n",
       "Viševnik                                870.2\n",
       "Adam                                    865.0\n",
       "Slatna                                  862.3\n",
       "Kalška gora                             841.5\n",
       "Velika Črnelska špica                   818.0\n",
       "Podrta gora                             816.7\n",
       "Tolsta Košuta - Vzhodni vrh             807.0\n",
       "Lučki Dedec                             797.2\n",
       "Malo Kladivo                            795.0\n",
       "Tolsta Košuta - Zahodni vrh             776.0\n",
       "Toplar                                  759.0\n",
       "Velika Mojstrovka                       755.0\n",
       "Cesar                                   751.0\n",
       "Debela peč                              743.3\n",
       "Zadnja Mojstrovka                       743.0\n",
       "Kol                                     739.0\n",
       "Brda                                    706.2\n",
       "Konjc                                   650.5\n",
       "Dom Petra Skalarja na Kaninu            621.5\n",
       "Velika Zelenica                         614.0\n",
       "Veliki vrh (Veža)                       610.0\n",
       "Pungartska gora                         595.0\n",
       "Mala Raduha                             529.0\n",
       "Molička peč                             529.0\n",
       "Mala Ojstrica                           517.0\n",
       "Suhi vrh                                498.0\n",
       "Šitna glava                             476.0\n",
       "Mali Kanin                              369.0\n",
       "Name: višinska_razlika, Length: 198, dtype: float64"
      ]
     },
     "execution_count": 40,
     "metadata": {},
     "output_type": "execute_result"
    }
   ],
   "source": [
    "izleti.groupby('cilj').mean()['višinska_razlika'].sort_values(ascending=False).round(decimals=1)"
   ]
  },
  {
   "cell_type": "markdown",
   "metadata": {},
   "source": [
    "## Višinska razlika po poti"
   ]
  },
  {
   "cell_type": "markdown",
   "metadata": {},
   "source": [
    "### Povprečna višinska razlika po poti pri izletu na posamezno goro"
   ]
  },
  {
   "cell_type": "code",
   "execution_count": 41,
   "metadata": {},
   "outputs": [
    {
     "data": {
      "text/plain": [
       "cilj\n",
       "Škrlatica                  2572.5\n",
       "Triglav                    2057.8\n",
       "Morbegna                   1833.3\n",
       "Mišelj vrh                 1825.0\n",
       "Mišeljski Konec            1815.0\n",
       "Mala Martuljška Ponca      1800.0\n",
       "Velika Martuljška Ponca    1800.0\n",
       "Kanjavec                   1781.9\n",
       "Glava v Zaplanji           1775.2\n",
       "Mali Triglav               1773.3\n",
       "Široka peč                 1750.0\n",
       "Veliki Oltar               1750.0\n",
       "Razor                      1735.6\n",
       "Kanjavec (Zahodni vrh)     1727.5\n",
       "Skuta                      1724.7\n",
       "Name: višinska_razlika_po_poti, dtype: float64"
      ]
     },
     "execution_count": 41,
     "metadata": {},
     "output_type": "execute_result"
    }
   ],
   "source": [
    "izleti.groupby('cilj').mean()['višinska_razlika_po_poti'].sort_values(ascending=False).round(decimals=1).head(15)"
   ]
  },
  {
   "cell_type": "code",
   "execution_count": 42,
   "metadata": {},
   "outputs": [
    {
     "data": {
      "text/plain": [
       "cilj\n",
       "Velika Mojstrovka               800.0\n",
       "Zadnja Mojstrovka               800.0\n",
       "Toplar                          786.0\n",
       "Veliki vrh (Veža)               737.5\n",
       "Velika Zelenica                 726.2\n",
       "Brda                            716.4\n",
       "Mala Ojstrica                   700.0\n",
       "Konjc                           685.0\n",
       "Dom Petra Skalarja na Kaninu    685.0\n",
       "Molička peč                     608.3\n",
       "Mali Kanin                      600.0\n",
       "Suhi vrh                        600.0\n",
       "Pungartska gora                 595.0\n",
       "Mala Raduha                     529.0\n",
       "Šitna glava                     476.0\n",
       "Name: višinska_razlika_po_poti, dtype: float64"
      ]
     },
     "execution_count": 42,
     "metadata": {},
     "output_type": "execute_result"
    }
   ],
   "source": [
    "izleti.groupby('cilj').mean()['višinska_razlika_po_poti'].sort_values(ascending=False).round(decimals=1).tail(15)"
   ]
  },
  {
   "cell_type": "markdown",
   "metadata": {},
   "source": [
    "## Zahtevnosti poti"
   ]
  },
  {
   "cell_type": "markdown",
   "metadata": {},
   "source": [
    "### Zahtevnost poti po gorovjih"
   ]
  },
  {
   "cell_type": "markdown",
   "metadata": {},
   "source": [
    "Ogledali si bomo, kakšnih poti je po posameznem gorovju največ in kakšna je \"povprečna zahtevnost\" poti po gorovjih. Naj omenim, da ena pot sovpada z enim izletom."
   ]
  },
  {
   "cell_type": "code",
   "execution_count": 43,
   "metadata": {
    "collapsed": true
   },
   "outputs": [],
   "source": [
    "izleti['zahtevnost_št'] = izleti['zahtevnost'].apply(orodja.pretvori_zahtevnost)"
   ]
  },
  {
   "cell_type": "markdown",
   "metadata": {},
   "source": [
    "#### Julijske Alpe"
   ]
  },
  {
   "cell_type": "markdown",
   "metadata": {},
   "source": [
    "Zanima nas, kakšnih poti je po Slovenskih Julijcih največ"
   ]
  },
  {
   "cell_type": "code",
   "execution_count": 44,
   "metadata": {},
   "outputs": [
    {
     "data": {
      "text/plain": [
       "'zelo zahtevna označena pot'"
      ]
     },
     "execution_count": 44,
     "metadata": {},
     "output_type": "execute_result"
    }
   ],
   "source": [
    "julijci = izleti[izleti['gorovje']=='Julijske Alpe']\n",
    "julijci['zahtevnost'].value_counts().argmax()"
   ]
  },
  {
   "cell_type": "markdown",
   "metadata": {},
   "source": [
    "Frekvenca zelo zahtevnih označenih poti v Julijskih Alpah pa preberemo:"
   ]
  },
  {
   "cell_type": "code",
   "execution_count": 45,
   "metadata": {},
   "outputs": [
    {
     "data": {
      "text/plain": [
       "107"
      ]
     },
     "execution_count": 45,
     "metadata": {},
     "output_type": "execute_result"
    }
   ],
   "source": [
    "julijci.groupby('zahtevnost').size().max()"
   ]
  },
  {
   "cell_type": "markdown",
   "metadata": {},
   "source": [
    "Izračunajmo \"povprečno zahtevnost\" poti po Julijcih:"
   ]
  },
  {
   "cell_type": "code",
   "execution_count": 46,
   "metadata": {},
   "outputs": [
    {
     "data": {
      "text/plain": [
       "'zahtevna pot'"
      ]
     },
     "execution_count": 46,
     "metadata": {},
     "output_type": "execute_result"
    }
   ],
   "source": [
    "orodja.pretvori_stevilo(round(julijci['zahtevnost_št'].mean()))"
   ]
  },
  {
   "cell_type": "markdown",
   "metadata": {},
   "source": [
    "#### Karavanke"
   ]
  },
  {
   "cell_type": "markdown",
   "metadata": {},
   "source": [
    "V Karavankah je najpogostejša pot:"
   ]
  },
  {
   "cell_type": "code",
   "execution_count": 47,
   "metadata": {},
   "outputs": [
    {
     "data": {
      "text/plain": [
       "'lahka označena pot'"
      ]
     },
     "execution_count": 47,
     "metadata": {},
     "output_type": "execute_result"
    }
   ],
   "source": [
    "karav = izleti[izleti['gorovje']=='Karavanke']\n",
    "karav['zahtevnost'].value_counts().argmax()"
   ]
  },
  {
   "cell_type": "markdown",
   "metadata": {},
   "source": [
    "Takih poti je"
   ]
  },
  {
   "cell_type": "code",
   "execution_count": 48,
   "metadata": {},
   "outputs": [
    {
     "data": {
      "text/plain": [
       "38"
      ]
     },
     "execution_count": 48,
     "metadata": {},
     "output_type": "execute_result"
    }
   ],
   "source": [
    "karav.groupby('zahtevnost').size().max()"
   ]
  },
  {
   "cell_type": "markdown",
   "metadata": {},
   "source": [
    "Povprečna zahtevnost je"
   ]
  },
  {
   "cell_type": "code",
   "execution_count": 49,
   "metadata": {},
   "outputs": [
    {
     "data": {
      "text/plain": [
       "'delno zahtevna pot'"
      ]
     },
     "execution_count": 49,
     "metadata": {},
     "output_type": "execute_result"
    }
   ],
   "source": [
    "orodja.pretvori_stevilo(round(karav['zahtevnost_št'].mean()))"
   ]
  },
  {
   "cell_type": "markdown",
   "metadata": {},
   "source": [
    "#### Kamniško Savinjske Alpe"
   ]
  },
  {
   "cell_type": "markdown",
   "metadata": {},
   "source": [
    "Najpogostejša pot:"
   ]
  },
  {
   "cell_type": "code",
   "execution_count": 50,
   "metadata": {},
   "outputs": [
    {
     "data": {
      "text/plain": [
       "'zelo zahtevna označena pot'"
      ]
     },
     "execution_count": 50,
     "metadata": {},
     "output_type": "execute_result"
    }
   ],
   "source": [
    "ksa = izleti[izleti['gorovje']=='Kamniško Savinjske Alpe']\n",
    "ksa['zahtevnost'].value_counts().argmax()"
   ]
  },
  {
   "cell_type": "markdown",
   "metadata": {},
   "source": [
    "Takih poti je"
   ]
  },
  {
   "cell_type": "code",
   "execution_count": 51,
   "metadata": {},
   "outputs": [
    {
     "data": {
      "text/plain": [
       "73"
      ]
     },
     "execution_count": 51,
     "metadata": {},
     "output_type": "execute_result"
    }
   ],
   "source": [
    "ksa.groupby('zahtevnost').size().max()"
   ]
  },
  {
   "cell_type": "markdown",
   "metadata": {},
   "source": [
    "Povprečna zahtevnost:"
   ]
  },
  {
   "cell_type": "code",
   "execution_count": 52,
   "metadata": {},
   "outputs": [
    {
     "data": {
      "text/plain": [
       "'zahtevna pot'"
      ]
     },
     "execution_count": 52,
     "metadata": {},
     "output_type": "execute_result"
    }
   ],
   "source": [
    "orodja.pretvori_stevilo(round(ksa['zahtevnost_št'].mean()))"
   ]
  },
  {
   "cell_type": "markdown",
   "metadata": {},
   "source": [
    "### Zahtevnost pristopov na goro"
   ]
  },
  {
   "cell_type": "markdown",
   "metadata": {},
   "source": [
    "Zanima nas, kakšna pot je najenostavnejša pri vzponu na goro."
   ]
  },
  {
   "cell_type": "code",
   "execution_count": 53,
   "metadata": {
    "scrolled": false
   },
   "outputs": [
    {
     "data": {
      "text/plain": [
       "cilj\n",
       "Lanževica                              lahka pot\n",
       "Velika Zelenica                        lahka pot\n",
       "Malo Špičje                            lahka pot\n",
       "Mali vrh                               lahka pot\n",
       "Velika Zelnarica                       lahka pot\n",
       "Velika glava                           lahka pot\n",
       "Mala Zelnarica                         lahka pot\n",
       "Mala Tičarica                          lahka pot\n",
       "Mala Raduha                            lahka pot\n",
       "Mala Ojstrica                          lahka pot\n",
       "Velika Raduha                          lahka pot\n",
       "Mahavšček                              lahka pot\n",
       "Lopatnik                               lahka pot\n",
       "Veliki vrh (Košuta)                    lahka pot\n",
       "Veliki vrh (Veža)                      lahka pot\n",
       "Veliko Kladivo                         lahka pot\n",
       "Krn                                    lahka pot\n",
       "Kreda                                  lahka pot\n",
       "Visoka Vrbanova špica                  lahka pot\n",
       "Viševnik                               lahka pot\n",
       "Koča na Doliču                         lahka pot\n",
       "Veliki Pršivec                         lahka pot\n",
       "Molička peč                            lahka pot\n",
       "Morbegna                               lahka pot\n",
       "Velika Baba                            lahka pot\n",
       "Srednji vrh                            lahka pot\n",
       "Stenar                                 lahka pot\n",
       "Sleme                                  lahka pot\n",
       "Slatna                                 lahka pot\n",
       "Stol                                   lahka pot\n",
       "                                    ...         \n",
       "Mali Ozebnik                   zelo zahtevna pot\n",
       "Zelenjak                       zelo zahtevna pot\n",
       "Široka peč                     zelo zahtevna pot\n",
       "Rogljica                       zelo zahtevna pot\n",
       "Škednjovec                     zelo zahtevna pot\n",
       "Škrlatica                      zelo zahtevna pot\n",
       "Spodnja Vrbanova špica         zelo zahtevna pot\n",
       "Dovški križ                    zelo zahtevna pot\n",
       "Razor                          zelo zahtevna pot\n",
       "Triglav                        zelo zahtevna pot\n",
       "Jezerska Kočna                 zelo zahtevna pot\n",
       "Mali Kanin                     zelo zahtevna pot\n",
       "Veliki Oltar                   zelo zahtevna pot\n",
       "Mala Martuljška Ponca          zelo zahtevna pot\n",
       "Lopa                           zelo zahtevna pot\n",
       "Mrzla gora                     zelo zahtevna pot\n",
       "Velika Martuljška Ponca        zelo zahtevna pot\n",
       "Jalovec                        zelo zahtevna pot\n",
       "Vernar                         zelo zahtevna pot\n",
       "Visoka Ponca                   zelo zahtevna pot\n",
       "Visoki Kanin                   zelo zahtevna pot\n",
       "Visoki Rokav                   zelo zahtevna pot\n",
       "Kokrska Kočna                  zelo zahtevna pot\n",
       "Kogel                          zelo zahtevna pot\n",
       "Mali Triglav                   zelo zahtevna pot\n",
       "Vevnica                     izjemno zahtevna pot\n",
       "Strug                       izjemno zahtevna pot\n",
       "Na Križu (Kokrska Kočna)      alpinistični vzpon\n",
       "Rigljica                      alpinistični vzpon\n",
       "Spodnji Rokav                 alpinistični vzpon\n",
       "Name: zahtevnost_št, Length: 198, dtype: object"
      ]
     },
     "execution_count": 53,
     "metadata": {},
     "output_type": "execute_result"
    }
   ],
   "source": [
    "izleti.groupby('cilj').min()['zahtevnost_št'].sort_values().apply(orodja.pretvori_stevilo)"
   ]
  },
  {
   "cell_type": "markdown",
   "metadata": {},
   "source": [
    "Vidimo, da na Kokrsko Kočno, Rigljico in Spodnji Rokav ne moremo priti drugače kot po alpinističnem vzponu."
   ]
  },
  {
   "cell_type": "markdown",
   "metadata": {},
   "source": [
    "## Označenost poti"
   ]
  },
  {
   "cell_type": "code",
   "execution_count": 54,
   "metadata": {
    "collapsed": true
   },
   "outputs": [],
   "source": [
    "izleti['označenost_št'] = izleti['zahtevnost'].apply(orodja.oznacenost)\n",
    "izleti['označenost'] = izleti['zahtevnost'].apply(orodja.oznacenost).apply(orodja.pretvori_oznacenost)"
   ]
  },
  {
   "cell_type": "markdown",
   "metadata": {},
   "source": [
    "#### Pristopi na gore glede na najboljšo označenost"
   ]
  },
  {
   "cell_type": "code",
   "execution_count": 55,
   "metadata": {},
   "outputs": [
    {
     "data": {
      "text/plain": [
       "cilj\n",
       "Ablanca                                neoznačena pot\n",
       "Adam                                        brezpotje\n",
       "Batognica                                označena pot\n",
       "Bavški Grintavec                         označena pot\n",
       "Begunjski vrh                            označena pot\n",
       "Begunjščica                              označena pot\n",
       "Bivak na Jezerih                       neoznačena pot\n",
       "Bivak pod Grintovcem                     označena pot\n",
       "Bivak pod Skuto                        neoznačena pot\n",
       "Bovški Gamsovec                          označena pot\n",
       "Brana                                    označena pot\n",
       "Brda                                     označena pot\n",
       "Briceljk                               neoznačena pot\n",
       "Cesar                                       brezpotje\n",
       "Cmir                                     označena pot\n",
       "Debela peč                               označena pot\n",
       "Debeli vrh                                  brezpotje\n",
       "Dolgi hrbet                              označena pot\n",
       "Dolkova špica                            označena pot\n",
       "Dom Petra Skalarja na Kaninu             označena pot\n",
       "Dom Planika pod Triglavom                označena pot\n",
       "Dom Valentina Staniča pod Triglavom      označena pot\n",
       "Dovška Mala Kepa                       neoznačena pot\n",
       "Dovški križ                            neoznačena pot\n",
       "Drobeče Sleme                          neoznačena pot\n",
       "Eva                                         brezpotje\n",
       "Glava v Zaplanji                       neoznačena pot\n",
       "Goličica                               neoznačena pot\n",
       "Gomiščkovo zavetišče na Krnu             označena pot\n",
       "Grintovec                                označena pot\n",
       "                                            ...      \n",
       "Vodnikov Vršac (Vršac nad Zadnjico)         brezpotje\n",
       "Vrh Hribaric                                brezpotje\n",
       "Vrh Snežne konte                            brezpotje\n",
       "Vrh nad Peski                          neoznačena pot\n",
       "Vrh nad Škrbino                          označena pot\n",
       "Vrtača                                   označena pot\n",
       "Vršaki (Južni vrh)                          brezpotje\n",
       "Vršaki (Srednji vrh)                        brezpotje\n",
       "Vršaki (Vrh za Koritami)                    brezpotje\n",
       "Vršaki (Vzhodni vrh)                        brezpotje\n",
       "Zadnja Mojstrovka                           brezpotje\n",
       "Zadnja Ponca                             označena pot\n",
       "Zadnji Vogel                                brezpotje\n",
       "Zadnjiški Ozebnik                      neoznačena pot\n",
       "Zasavska koča na Prehodavcih             označena pot\n",
       "Zavetišče pod Špičkom                    označena pot\n",
       "Zeleni vrh                               označena pot\n",
       "Zelenjak                               neoznačena pot\n",
       "Zgornje Kriško jezero                  neoznačena pot\n",
       "Čelo                                        brezpotje\n",
       "Široka peč                                  brezpotje\n",
       "Šitna glava                            neoznačena pot\n",
       "Škednjovec                                  brezpotje\n",
       "Škrlatica                                označena pot\n",
       "Šmarjetna glava                             brezpotje\n",
       "Špik                                     označena pot\n",
       "Šplevta                                neoznačena pot\n",
       "Šplevta (Indijanec)                         brezpotje\n",
       "Štajerska Rinka                          označena pot\n",
       "Štruca                                      brezpotje\n",
       "Name: označenost_št, Length: 198, dtype: object"
      ]
     },
     "execution_count": 55,
     "metadata": {},
     "output_type": "execute_result"
    }
   ],
   "source": [
    "izleti.groupby('cilj').min()['označenost_št'].apply(orodja.pretvori_oznacenost)"
   ]
  },
  {
   "cell_type": "code",
   "execution_count": 56,
   "metadata": {
    "collapsed": true
   },
   "outputs": [],
   "source": [
    "st_oznacenosti_glede_na_cilj = pd.crosstab(\n",
    "    izleti.označenost,\n",
    "    izleti.cilj\n",
    ")\n",
    "\n",
    "tabela1 = st_oznacenosti_glede_na_cilj / st_poti_na_cilj\n",
    "tabela2 = tabela1.transpose()\n",
    "\n",
    "oznacenost_cilja = tabela2['označena pot']\n",
    "izleti = izleti.join(oznacenost_cilja, on='cilj')"
   ]
  },
  {
   "cell_type": "markdown",
   "metadata": {},
   "source": [
    "V zadnjem koraku smo tabeli izletov dodali delež označenih poti na cilj izleta (v stolpcu 'označena pot'). To bomo uporabili kasneje, ko bomo računali označenost poti na cilje glede na višinsko razliko.\n",
    "\n",
    "Za vsak cilj ugotovimo še, ali nanj vodi kakšna označena pot."
   ]
  },
  {
   "cell_type": "code",
   "execution_count": 58,
   "metadata": {},
   "outputs": [
    {
     "data": {
      "text/html": [
       "<div>\n",
       "<style>\n",
       "    .dataframe thead tr:only-child th {\n",
       "        text-align: right;\n",
       "    }\n",
       "\n",
       "    .dataframe thead th {\n",
       "        text-align: left;\n",
       "    }\n",
       "\n",
       "    .dataframe tbody tr th {\n",
       "        vertical-align: top;\n",
       "    }\n",
       "</style>\n",
       "<table border=\"1\" class=\"dataframe\">\n",
       "  <thead>\n",
       "    <tr style=\"text-align: right;\">\n",
       "      <th></th>\n",
       "      <th>višina_cilja</th>\n",
       "      <th>označena pot</th>\n",
       "    </tr>\n",
       "    <tr>\n",
       "      <th>cilj</th>\n",
       "      <th></th>\n",
       "      <th></th>\n",
       "    </tr>\n",
       "  </thead>\n",
       "  <tbody>\n",
       "    <tr>\n",
       "      <th>Ablanca</th>\n",
       "      <td>2004.0</td>\n",
       "      <td>False</td>\n",
       "    </tr>\n",
       "    <tr>\n",
       "      <th>Adam</th>\n",
       "      <td>2012.0</td>\n",
       "      <td>False</td>\n",
       "    </tr>\n",
       "    <tr>\n",
       "      <th>Batognica</th>\n",
       "      <td>2164.0</td>\n",
       "      <td>True</td>\n",
       "    </tr>\n",
       "    <tr>\n",
       "      <th>Bavški Grintavec</th>\n",
       "      <td>2347.0</td>\n",
       "      <td>True</td>\n",
       "    </tr>\n",
       "    <tr>\n",
       "      <th>Begunjski vrh</th>\n",
       "      <td>2461.0</td>\n",
       "      <td>True</td>\n",
       "    </tr>\n",
       "    <tr>\n",
       "      <th>Begunjščica</th>\n",
       "      <td>2060.0</td>\n",
       "      <td>True</td>\n",
       "    </tr>\n",
       "    <tr>\n",
       "      <th>Bivak na Jezerih</th>\n",
       "      <td>2118.0</td>\n",
       "      <td>False</td>\n",
       "    </tr>\n",
       "    <tr>\n",
       "      <th>Bivak pod Grintovcem</th>\n",
       "      <td>2100.0</td>\n",
       "      <td>True</td>\n",
       "    </tr>\n",
       "    <tr>\n",
       "      <th>Bivak pod Skuto</th>\n",
       "      <td>2070.0</td>\n",
       "      <td>False</td>\n",
       "    </tr>\n",
       "    <tr>\n",
       "      <th>Bovški Gamsovec</th>\n",
       "      <td>2392.0</td>\n",
       "      <td>True</td>\n",
       "    </tr>\n",
       "    <tr>\n",
       "      <th>Brana</th>\n",
       "      <td>2253.0</td>\n",
       "      <td>True</td>\n",
       "    </tr>\n",
       "    <tr>\n",
       "      <th>Brda</th>\n",
       "      <td>2008.0</td>\n",
       "      <td>True</td>\n",
       "    </tr>\n",
       "    <tr>\n",
       "      <th>Briceljk</th>\n",
       "      <td>2346.0</td>\n",
       "      <td>False</td>\n",
       "    </tr>\n",
       "    <tr>\n",
       "      <th>Cesar</th>\n",
       "      <td>2098.0</td>\n",
       "      <td>False</td>\n",
       "    </tr>\n",
       "    <tr>\n",
       "      <th>Cmir</th>\n",
       "      <td>2393.0</td>\n",
       "      <td>True</td>\n",
       "    </tr>\n",
       "    <tr>\n",
       "      <th>Debela peč</th>\n",
       "      <td>2014.0</td>\n",
       "      <td>True</td>\n",
       "    </tr>\n",
       "    <tr>\n",
       "      <th>Debeli vrh</th>\n",
       "      <td>2390.0</td>\n",
       "      <td>False</td>\n",
       "    </tr>\n",
       "    <tr>\n",
       "      <th>Dolgi hrbet</th>\n",
       "      <td>2473.0</td>\n",
       "      <td>True</td>\n",
       "    </tr>\n",
       "    <tr>\n",
       "      <th>Dolkova špica</th>\n",
       "      <td>2591.0</td>\n",
       "      <td>True</td>\n",
       "    </tr>\n",
       "    <tr>\n",
       "      <th>Dom Petra Skalarja na Kaninu</th>\n",
       "      <td>2260.0</td>\n",
       "      <td>True</td>\n",
       "    </tr>\n",
       "    <tr>\n",
       "      <th>Dom Planika pod Triglavom</th>\n",
       "      <td>2401.0</td>\n",
       "      <td>True</td>\n",
       "    </tr>\n",
       "    <tr>\n",
       "      <th>Dom Valentina Staniča pod Triglavom</th>\n",
       "      <td>2332.0</td>\n",
       "      <td>True</td>\n",
       "    </tr>\n",
       "    <tr>\n",
       "      <th>Dovška Mala Kepa</th>\n",
       "      <td>2077.0</td>\n",
       "      <td>False</td>\n",
       "    </tr>\n",
       "    <tr>\n",
       "      <th>Dovški križ</th>\n",
       "      <td>2542.0</td>\n",
       "      <td>False</td>\n",
       "    </tr>\n",
       "    <tr>\n",
       "      <th>Drobeče Sleme</th>\n",
       "      <td>2029.0</td>\n",
       "      <td>False</td>\n",
       "    </tr>\n",
       "    <tr>\n",
       "      <th>Eva</th>\n",
       "      <td>2019.0</td>\n",
       "      <td>False</td>\n",
       "    </tr>\n",
       "    <tr>\n",
       "      <th>Glava v Zaplanji</th>\n",
       "      <td>2556.0</td>\n",
       "      <td>False</td>\n",
       "    </tr>\n",
       "    <tr>\n",
       "      <th>Goličica</th>\n",
       "      <td>2101.0</td>\n",
       "      <td>False</td>\n",
       "    </tr>\n",
       "    <tr>\n",
       "      <th>Gomiščkovo zavetišče na Krnu</th>\n",
       "      <td>2182.0</td>\n",
       "      <td>True</td>\n",
       "    </tr>\n",
       "    <tr>\n",
       "      <th>Grintovec</th>\n",
       "      <td>2558.0</td>\n",
       "      <td>True</td>\n",
       "    </tr>\n",
       "    <tr>\n",
       "      <th>...</th>\n",
       "      <td>...</td>\n",
       "      <td>...</td>\n",
       "    </tr>\n",
       "    <tr>\n",
       "      <th>Vodnikov Vršac (Vršac nad Zadnjico)</th>\n",
       "      <td>2194.0</td>\n",
       "      <td>False</td>\n",
       "    </tr>\n",
       "    <tr>\n",
       "      <th>Vrh Hribaric</th>\n",
       "      <td>2388.0</td>\n",
       "      <td>False</td>\n",
       "    </tr>\n",
       "    <tr>\n",
       "      <th>Vrh Snežne konte</th>\n",
       "      <td>2342.0</td>\n",
       "      <td>False</td>\n",
       "    </tr>\n",
       "    <tr>\n",
       "      <th>Vrh nad Peski</th>\n",
       "      <td>2176.0</td>\n",
       "      <td>False</td>\n",
       "    </tr>\n",
       "    <tr>\n",
       "      <th>Vrh nad Škrbino</th>\n",
       "      <td>2054.0</td>\n",
       "      <td>True</td>\n",
       "    </tr>\n",
       "    <tr>\n",
       "      <th>Vrtača</th>\n",
       "      <td>2181.0</td>\n",
       "      <td>True</td>\n",
       "    </tr>\n",
       "    <tr>\n",
       "      <th>Vršaki (Južni vrh)</th>\n",
       "      <td>2431.0</td>\n",
       "      <td>False</td>\n",
       "    </tr>\n",
       "    <tr>\n",
       "      <th>Vršaki (Srednji vrh)</th>\n",
       "      <td>2424.0</td>\n",
       "      <td>False</td>\n",
       "    </tr>\n",
       "    <tr>\n",
       "      <th>Vršaki (Vrh za Koritami)</th>\n",
       "      <td>2422.0</td>\n",
       "      <td>False</td>\n",
       "    </tr>\n",
       "    <tr>\n",
       "      <th>Vršaki (Vzhodni vrh)</th>\n",
       "      <td>2448.0</td>\n",
       "      <td>False</td>\n",
       "    </tr>\n",
       "    <tr>\n",
       "      <th>Zadnja Mojstrovka</th>\n",
       "      <td>2354.0</td>\n",
       "      <td>False</td>\n",
       "    </tr>\n",
       "    <tr>\n",
       "      <th>Zadnja Ponca</th>\n",
       "      <td>2242.0</td>\n",
       "      <td>True</td>\n",
       "    </tr>\n",
       "    <tr>\n",
       "      <th>Zadnji Vogel</th>\n",
       "      <td>2327.0</td>\n",
       "      <td>False</td>\n",
       "    </tr>\n",
       "    <tr>\n",
       "      <th>Zadnjiški Ozebnik</th>\n",
       "      <td>2084.0</td>\n",
       "      <td>False</td>\n",
       "    </tr>\n",
       "    <tr>\n",
       "      <th>Zasavska koča na Prehodavcih</th>\n",
       "      <td>2071.0</td>\n",
       "      <td>True</td>\n",
       "    </tr>\n",
       "    <tr>\n",
       "      <th>Zavetišče pod Špičkom</th>\n",
       "      <td>2064.0</td>\n",
       "      <td>True</td>\n",
       "    </tr>\n",
       "    <tr>\n",
       "      <th>Zeleni vrh</th>\n",
       "      <td>2052.0</td>\n",
       "      <td>True</td>\n",
       "    </tr>\n",
       "    <tr>\n",
       "      <th>Zelenjak</th>\n",
       "      <td>2024.0</td>\n",
       "      <td>False</td>\n",
       "    </tr>\n",
       "    <tr>\n",
       "      <th>Zgornje Kriško jezero</th>\n",
       "      <td>2158.0</td>\n",
       "      <td>False</td>\n",
       "    </tr>\n",
       "    <tr>\n",
       "      <th>Čelo</th>\n",
       "      <td>2228.0</td>\n",
       "      <td>False</td>\n",
       "    </tr>\n",
       "    <tr>\n",
       "      <th>Široka peč</th>\n",
       "      <td>2497.0</td>\n",
       "      <td>False</td>\n",
       "    </tr>\n",
       "    <tr>\n",
       "      <th>Šitna glava</th>\n",
       "      <td>2087.0</td>\n",
       "      <td>False</td>\n",
       "    </tr>\n",
       "    <tr>\n",
       "      <th>Škednjovec</th>\n",
       "      <td>2309.0</td>\n",
       "      <td>False</td>\n",
       "    </tr>\n",
       "    <tr>\n",
       "      <th>Škrlatica</th>\n",
       "      <td>2740.0</td>\n",
       "      <td>True</td>\n",
       "    </tr>\n",
       "    <tr>\n",
       "      <th>Šmarjetna glava</th>\n",
       "      <td>2358.0</td>\n",
       "      <td>False</td>\n",
       "    </tr>\n",
       "    <tr>\n",
       "      <th>Špik</th>\n",
       "      <td>2472.0</td>\n",
       "      <td>True</td>\n",
       "    </tr>\n",
       "    <tr>\n",
       "      <th>Šplevta</th>\n",
       "      <td>2272.0</td>\n",
       "      <td>False</td>\n",
       "    </tr>\n",
       "    <tr>\n",
       "      <th>Šplevta (Indijanec)</th>\n",
       "      <td>2382.0</td>\n",
       "      <td>False</td>\n",
       "    </tr>\n",
       "    <tr>\n",
       "      <th>Štajerska Rinka</th>\n",
       "      <td>2374.0</td>\n",
       "      <td>True</td>\n",
       "    </tr>\n",
       "    <tr>\n",
       "      <th>Štruca</th>\n",
       "      <td>2457.0</td>\n",
       "      <td>False</td>\n",
       "    </tr>\n",
       "  </tbody>\n",
       "</table>\n",
       "<p>198 rows × 2 columns</p>\n",
       "</div>"
      ],
      "text/plain": [
       "                                     višina_cilja  označena pot\n",
       "cilj                                                           \n",
       "Ablanca                                    2004.0         False\n",
       "Adam                                       2012.0         False\n",
       "Batognica                                  2164.0          True\n",
       "Bavški Grintavec                           2347.0          True\n",
       "Begunjski vrh                              2461.0          True\n",
       "Begunjščica                                2060.0          True\n",
       "Bivak na Jezerih                           2118.0         False\n",
       "Bivak pod Grintovcem                       2100.0          True\n",
       "Bivak pod Skuto                            2070.0         False\n",
       "Bovški Gamsovec                            2392.0          True\n",
       "Brana                                      2253.0          True\n",
       "Brda                                       2008.0          True\n",
       "Briceljk                                   2346.0         False\n",
       "Cesar                                      2098.0         False\n",
       "Cmir                                       2393.0          True\n",
       "Debela peč                                 2014.0          True\n",
       "Debeli vrh                                 2390.0         False\n",
       "Dolgi hrbet                                2473.0          True\n",
       "Dolkova špica                              2591.0          True\n",
       "Dom Petra Skalarja na Kaninu               2260.0          True\n",
       "Dom Planika pod Triglavom                  2401.0          True\n",
       "Dom Valentina Staniča pod Triglavom        2332.0          True\n",
       "Dovška Mala Kepa                           2077.0         False\n",
       "Dovški križ                                2542.0         False\n",
       "Drobeče Sleme                              2029.0         False\n",
       "Eva                                        2019.0         False\n",
       "Glava v Zaplanji                           2556.0         False\n",
       "Goličica                                   2101.0         False\n",
       "Gomiščkovo zavetišče na Krnu               2182.0          True\n",
       "Grintovec                                  2558.0          True\n",
       "...                                           ...           ...\n",
       "Vodnikov Vršac (Vršac nad Zadnjico)        2194.0         False\n",
       "Vrh Hribaric                               2388.0         False\n",
       "Vrh Snežne konte                           2342.0         False\n",
       "Vrh nad Peski                              2176.0         False\n",
       "Vrh nad Škrbino                            2054.0          True\n",
       "Vrtača                                     2181.0          True\n",
       "Vršaki (Južni vrh)                         2431.0         False\n",
       "Vršaki (Srednji vrh)                       2424.0         False\n",
       "Vršaki (Vrh za Koritami)                   2422.0         False\n",
       "Vršaki (Vzhodni vrh)                       2448.0         False\n",
       "Zadnja Mojstrovka                          2354.0         False\n",
       "Zadnja Ponca                               2242.0          True\n",
       "Zadnji Vogel                               2327.0         False\n",
       "Zadnjiški Ozebnik                          2084.0         False\n",
       "Zasavska koča na Prehodavcih               2071.0          True\n",
       "Zavetišče pod Špičkom                      2064.0          True\n",
       "Zeleni vrh                                 2052.0          True\n",
       "Zelenjak                                   2024.0         False\n",
       "Zgornje Kriško jezero                      2158.0         False\n",
       "Čelo                                       2228.0         False\n",
       "Široka peč                                 2497.0         False\n",
       "Šitna glava                                2087.0         False\n",
       "Škednjovec                                 2309.0         False\n",
       "Škrlatica                                  2740.0          True\n",
       "Šmarjetna glava                            2358.0         False\n",
       "Špik                                       2472.0          True\n",
       "Šplevta                                    2272.0         False\n",
       "Šplevta (Indijanec)                        2382.0         False\n",
       "Štajerska Rinka                            2374.0          True\n",
       "Štruca                                     2457.0         False\n",
       "\n",
       "[198 rows x 2 columns]"
      ]
     },
     "execution_count": 58,
     "metadata": {},
     "output_type": "execute_result"
    }
   ],
   "source": [
    "def oznaci(stev):\n",
    "    if stev > 0:\n",
    "        return True\n",
    "    else:\n",
    "        return False\n",
    "\n",
    "cilji = izleti.groupby('cilj')['višina_cilja'].mean().to_frame()\n",
    "cilj_je_dostopen = oznacenost_cilja.apply(oznaci).to_frame()\n",
    "dostopnost_cilja = cilji.join(cilj_je_dostopen)\n",
    "dostopnost_cilja"
   ]
  },
  {
   "cell_type": "markdown",
   "metadata": {},
   "source": [
    "## Analiza podatkov glede na različne vrste višin"
   ]
  },
  {
   "cell_type": "code",
   "execution_count": 59,
   "metadata": {
    "collapsed": true
   },
   "outputs": [],
   "source": [
    "izleti['hitrost'] = izleti.višinska_razlika / izleti.čas_hoje"
   ]
  },
  {
   "cell_type": "markdown",
   "metadata": {},
   "source": [
    "Ker ne analiziram gora, marveč poti nanje, se bom osredinil na razrede, ki nastanejo po delitvi izletov glede na njihovo nadmorsko višino in, kadar bo situacija tako nanesla, uporabil tudi delitev glede na nadmorsko višino cilja.\n",
    "\n",
    "Najprej si oglejmo, koliko je sploh izletov v posameznem razredu. Pričakujemo, da bo malo izletov z zelo majhno višinsko razliko, saj je malo izhodišč z nadmorsko višino okrog 2000 m. Prav tako najbrž ne bo veliko izletov z višinsko razliko nad 2000 m, saj bi to pomenilo, da se moramo vzpeti na dvatisočak od zelo daleč (blizu tako visoke gore so tudi izhodišča visoka)."
   ]
  },
  {
   "cell_type": "code",
   "execution_count": 108,
   "metadata": {
    "collapsed": true
   },
   "outputs": [],
   "source": [
    "izleti['višinski_razred'] = (izleti['višinska_razlika'] // 100) * 100"
   ]
  },
  {
   "cell_type": "code",
   "execution_count": 61,
   "metadata": {},
   "outputs": [
    {
     "data": {
      "text/plain": [
       "<matplotlib.axes._subplots.AxesSubplot at 0x1d14b91b3c8>"
      ]
     },
     "execution_count": 61,
     "metadata": {},
     "output_type": "execute_result"
    },
    {
     "data": {
      "image/png": "[encoded data removed]",
      "text/plain": [
       "<matplotlib.figure.Figure at 0x1d14b919eb8>"
      ]
     },
     "metadata": {},
     "output_type": "display_data"
    }
   ],
   "source": [
    "razredi = izleti.groupby('višinski_razred')\n",
    "razredi.size().plot.bar()"
   ]
  },
  {
   "cell_type": "markdown",
   "metadata": {},
   "source": [
    "Vidimo, da je največ izletov z višinsko razliko okrog 1500 m in je res malo skrajnih vrednosti.\n",
    "\n",
    "\n",
    "Zdaj nas zanima, kako hitro prelezemo neko višinsko razliko. Pričakujemo, da bomo večje višinske razlike premagovali hitreje, saj bo pot strmejša in bomo hitreje dobivali višino. Spodnji graf prikazuje, koliko višinskih metrov naredimo na minuto."
   ]
  },
  {
   "cell_type": "code",
   "execution_count": 62,
   "metadata": {},
   "outputs": [
    {
     "data": {
      "text/plain": [
       "<matplotlib.axes._subplots.AxesSubplot at 0x1d14b919240>"
      ]
     },
     "execution_count": 62,
     "metadata": {},
     "output_type": "execute_result"
    },
    {
     "data": {
      "image/png": "[encoded data removed]",
      "text/plain": [
       "<matplotlib.figure.Figure at 0x1d14b99fba8>"
      ]
     },
     "metadata": {},
     "output_type": "display_data"
    }
   ],
   "source": [
    "razredi.mean()['hitrost'].plot.bar(y='višinski_metri_na_minuto')"
   ]
  },
  {
   "cell_type": "markdown",
   "metadata": {},
   "source": [
    "Očitno je, da pri majhnih višinskih razlikah višino pridobivamo počasi, saj se gibljemo bolj vodoravno. Opazimo tudi, da so poleg teh odstopanj hitrosti precej podobne, kar lahko kaže na to, da je čas hoje na hribi.net preračunan glede na višinsko razliko."
   ]
  },
  {
   "cell_type": "markdown",
   "metadata": {},
   "source": [
    "Zdaj nas zanima, kako dobro so označene poti v posameznem razredu nadmorske višine cilja. Cilji so razdeljeni v razrede nadmorskih višin, graf pa prikazuje, na kolikšen delež ciljev v posameznem razredu vodi označena pot."
   ]
  },
  {
   "cell_type": "code",
   "execution_count": 74,
   "metadata": {
    "collapsed": true
   },
   "outputs": [],
   "source": [
    "izleti['razred_cilja'] = (izleti.višina_cilja // 100) * 100"
   ]
  },
  {
   "cell_type": "code",
   "execution_count": 66,
   "metadata": {},
   "outputs": [
    {
     "data": {
      "text/plain": [
       "<matplotlib.axes._subplots.AxesSubplot at 0x1d14b97edd8>"
      ]
     },
     "execution_count": 66,
     "metadata": {},
     "output_type": "execute_result"
    },
    {
     "data": {
      "image/png": "[encoded data removed]",
      "text/plain": [
       "<matplotlib.figure.Figure at 0x1d14ba26710>"
      ]
     },
     "metadata": {},
     "output_type": "display_data"
    }
   ],
   "source": [
    "dostopnost_cilja['razred_cilja'] = (dostopnost_cilja.višina_cilja // 100) * 100\n",
    "dostopnost = dostopnost_cilja[\n",
    "    dostopnost_cilja['označena pot']==True\n",
    "].groupby('razred_cilja').size() / dostopnost_cilja.groupby('razred_cilja').size()\n",
    "dostopnost.plot.bar()"
   ]
  },
  {
   "cell_type": "markdown",
   "metadata": {},
   "source": [
    "Očitno se na vse cilje v razredu 2700 in 2800 (to so le Mali Triglav, Škrlatica in Triglav) lahko povzpnemo po označeni poti.\n",
    "\n",
    "\n",
    "Spodnji graf prikazuje še število ciljev, na katere vodi označena pot, v posameznem razredu nadmorske višine cilja."
   ]
  },
  {
   "cell_type": "code",
   "execution_count": 67,
   "metadata": {},
   "outputs": [
    {
     "data": {
      "text/plain": [
       "<matplotlib.axes._subplots.AxesSubplot at 0x1d14a87c0b8>"
      ]
     },
     "execution_count": 67,
     "metadata": {},
     "output_type": "execute_result"
    },
    {
     "data": {
      "image/png": "[encoded data removed]",
      "text/plain": [
       "<matplotlib.figure.Figure at 0x1d14bac80b8>"
      ]
     },
     "metadata": {},
     "output_type": "display_data"
    }
   ],
   "source": [
    "dostopnost_cilja[\n",
    "    dostopnost_cilja['označena pot']==True\n",
    "].groupby('razred_cilja').size().plot.bar()"
   ]
  },
  {
   "cell_type": "markdown",
   "metadata": {},
   "source": [
    "### Zanimanje za posamezen višinski razred"
   ]
  },
  {
   "cell_type": "markdown",
   "metadata": {},
   "source": [
    "Zdaj nas zanima, koliko je ogledov izletov določenega višinskega razreda. Radi bi videli, o kakšnih izletih se ljudje največkrat pozanimajo. Sklepam, da je največ ogledov tam, kjer je največ izletov, torej okrog višinske razlike 1500, zato bomo izračunali povprečno število ogledov ma izlet glede na višinski razred."
   ]
  },
  {
   "cell_type": "code",
   "execution_count": 94,
   "metadata": {},
   "outputs": [
    {
     "data": {
      "text/plain": [
       "<matplotlib.axes._subplots.AxesSubplot at 0x1d14d244cf8>"
      ]
     },
     "execution_count": 94,
     "metadata": {},
     "output_type": "execute_result"
    },
    {
     "data": {
      "image/png": "[encoded data removed]",
      "text/plain": [
       "<matplotlib.figure.Figure at 0x1d14d255f98>"
      ]
     },
     "metadata": {},
     "output_type": "display_data"
    }
   ],
   "source": [
    "zanimivi = izleti[izleti.število_ogledov > 4000]\n",
    "zanimivi_razredi = zanimivi.groupby('višinski_razred')\n",
    "(zanimivi_razredi.sum()['število_ogledov'] / zanimivi_razredi.size()).plot.bar()"
   ]
  },
  {
   "cell_type": "markdown",
   "metadata": {},
   "source": [
    "Pričakovano je največ zanimanja za izlete z najvišjo višinsko razliko, saj je v tem razredu Triglav, naša najbolj mikavna gora.\n",
    "\n",
    "Morda bomo lepši vzorec dobili, če izračunamo število ogledov posameznega višinskega razreda cilja."
   ]
  },
  {
   "cell_type": "code",
   "execution_count": 92,
   "metadata": {},
   "outputs": [
    {
     "data": {
      "text/plain": [
       "<matplotlib.axes._subplots.AxesSubplot at 0x1d14c080550>"
      ]
     },
     "execution_count": 92,
     "metadata": {},
     "output_type": "execute_result"
    },
    {
     "data": {
      "image/png": "[encoded data removed]",
      "text/plain": [
       "<matplotlib.figure.Figure at 0x1d14c15d860>"
      ]
     },
     "metadata": {},
     "output_type": "display_data"
    }
   ],
   "source": [
    "(zanimivi.groupby('razred_cilja').mean()['število_ogledov']).plot.bar()"
   ]
  },
  {
   "cell_type": "markdown",
   "metadata": {},
   "source": [
    "Tu lepo vidimo, da je največ zanimanja za najvišje izlete, zopet je to pričakovano zaradi Triglava.\n",
    "\n",
    "Poglejmo si še, kako sta odvisna ocena izleta in višinski razred."
   ]
  },
  {
   "cell_type": "code",
   "execution_count": 116,
   "metadata": {},
   "outputs": [
    {
     "data": {
      "text/plain": [
       "<matplotlib.axes._subplots.AxesSubplot at 0x1d14d7058d0>"
      ]
     },
     "execution_count": 116,
     "metadata": {},
     "output_type": "execute_result"
    },
    {
     "data": {
      "image/png": "[encoded data removed]",
      "text/plain": [
       "<matplotlib.figure.Figure at 0x1d14bc27eb8>"
      ]
     },
     "metadata": {},
     "output_type": "display_data"
    }
   ],
   "source": [
    "uporabni = izleti[izleti.število_glasov > 4]\n",
    "uporabni.groupby('višinski_razred').mean()['ocena'].plot.bar()"
   ]
  },
  {
   "cell_type": "markdown",
   "metadata": {},
   "source": [
    "Ne ravno zanimiv, pa vendar zgovoren zaključek je, da ocena ni preveč odvisna od višinskega razreda."
   ]
  },
  {
   "cell_type": "markdown",
   "metadata": {},
   "source": [
    "## Zaključek"
   ]
  },
  {
   "cell_type": "markdown",
   "metadata": {},
   "source": [
    "Kljub temu da je portal hribi.net precej manj obiskan kot drugi možni viri podatkov, se iz njega da razbrati marsikaj zanimivega."
   ]
  }
 ],
 "metadata": {
  "kernelspec": {
   "display_name": "Python 3",
   "language": "python",
   "name": "python3"
  },
  "language_info": {
   "codemirror_mode": {
    "name": "ipython",
    "version": 3
   },
   "file_extension": ".py",
   "mimetype": "text/x-python",
   "name": "python",
   "nbconvert_exporter": "python",
   "pygments_lexer": "ipython3",
   "version": "3.6.3"
  }
 },
 "nbformat": 4,
 "nbformat_minor": 2
}
