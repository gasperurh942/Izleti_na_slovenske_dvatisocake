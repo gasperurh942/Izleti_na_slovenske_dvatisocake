{
 "cells": [
  {
   "cell_type": "code",
   "execution_count": 1,
   "metadata": {
    "collapsed": true
   },
   "outputs": [],
   "source": [
    "import pandas as pd\n",
    "import orodja\n",
    "import numpy as np\n",
    "%matplotlib inline"
   ]
  },
  {
   "cell_type": "code",
   "execution_count": 2,
   "metadata": {
    "collapsed": true
   },
   "outputs": [],
   "source": [
    "izleti = pd.read_csv(\"izleti.csv\", encoding='utf-8')"
   ]
  },
  {
   "cell_type": "markdown",
   "metadata": {},
   "source": [
    "# Izleti na slovenske dvatisočake\n",
    "Kot zaveden Slovenec se zavedam edinstvenosti slovenskega pogorja, danosti, ki je nima vsak narod. Doma sem s praga Alp, ki gostijo vse dvatisočake na našem ozemlju, in sem navdušen pohodnik, zato rad uporabljam spletni portal hribi.net, kjer so uporabni opisi dostopov na vse slovenske in okoliške bisere. Ker Šmarna gora ni gora, sem se pri razčlenjevanju podatkov omejil na izlete, ki nas ponesejo nad dvokilometrsko mejo nad morjem.\n",
    "\n",
    "Na začetku sem pomislil, kakšne informacije bi me kot pohodnika zanimale. Zagotovo najprej pogledamo cilj in izhodišče, nadmorsko višino, višino izhodišča in izračunamo višinsko razliko (pri mnogih izletih to ni edina višinska razlika, ki jo je treba premagati, zato nam hribi.net ponudijo tudi višinsko razliko po poti, ki vključuje vmesne vzpone in spuste). Poleg osnovnih podatkov pa me je zanimalo, kako določeno pot (ne samo cilj, ta ni prvotnega pomena) vidimo planinci, zato sem s spleta prenesel še podatke o številu ogledov posameznega izleta in oceni (da bi zagotovil primerno zadržanost do podatkov sem moral dodati tudi število ocen). Temu sem dodal še vrsto cilja, časovno vrednost dolžine poti in zemljepisne koordinate cilja.\n",
    "\n",
    "Moj namen je analizirati zahtevnosti poti (glede na nadmorsko višino), poiskati najbolj prepredena alpska območja, njihovo zanimivost za planince (glede na višinsko razliko, čas hoje, lokacijo, vrsto cilja ...) in druge zanimive podatke."
   ]
  },
  {
   "cell_type": "code",
   "execution_count": 3,
   "metadata": {},
   "outputs": [
    {
     "data": {
      "text/html": [
       "<div>\n",
       "<style>\n",
       "    .dataframe thead tr:only-child th {\n",
       "        text-align: right;\n",
       "    }\n",
       "\n",
       "    .dataframe thead th {\n",
       "        text-align: left;\n",
       "    }\n",
       "\n",
       "    .dataframe tbody tr th {\n",
       "        vertical-align: top;\n",
       "    }\n",
       "</style>\n",
       "<table border=\"1\" class=\"dataframe\">\n",
       "  <thead>\n",
       "    <tr style=\"text-align: right;\">\n",
       "      <th></th>\n",
       "      <th>gorovje</th>\n",
       "      <th>izhodišče</th>\n",
       "      <th>višina_izhodišča</th>\n",
       "      <th>cilj</th>\n",
       "      <th>višina_cilja</th>\n",
       "      <th>opomba_poti</th>\n",
       "      <th>čas_hoje</th>\n",
       "      <th>zahtevnost</th>\n",
       "      <th>višinska_razlika_po_poti</th>\n",
       "      <th>število_ogledov</th>\n",
       "      <th>ocena</th>\n",
       "      <th>število_glasov</th>\n",
       "      <th>širina_cilja</th>\n",
       "      <th>dolžina_cilja</th>\n",
       "      <th>vrsta_cilja</th>\n",
       "    </tr>\n",
       "  </thead>\n",
       "  <tbody>\n",
       "    <tr>\n",
       "      <th>0</th>\n",
       "      <td>Julijske Alpe</td>\n",
       "      <td>Stara Fužina</td>\n",
       "      <td>600</td>\n",
       "      <td>Triglav</td>\n",
       "      <td>2864</td>\n",
       "      <td>čez Planiko in Triglavsko škrbino</td>\n",
       "      <td>450</td>\n",
       "      <td>zelo zahtevna označena pot</td>\n",
       "      <td>2264</td>\n",
       "      <td>19345</td>\n",
       "      <td>7</td>\n",
       "      <td>1</td>\n",
       "      <td>46,37832</td>\n",
       "      <td>13,83648</td>\n",
       "      <td>vrh, bivak</td>\n",
       "    </tr>\n",
       "    <tr>\n",
       "      <th>1</th>\n",
       "      <td>Julijske Alpe</td>\n",
       "      <td>Rudno polje</td>\n",
       "      <td>1347</td>\n",
       "      <td>Triglav</td>\n",
       "      <td>2864</td>\n",
       "      <td>čez Kredarico</td>\n",
       "      <td>380</td>\n",
       "      <td>zelo zahtevna označena pot</td>\n",
       "      <td>1900</td>\n",
       "      <td>74961</td>\n",
       "      <td>9</td>\n",
       "      <td>4</td>\n",
       "      <td>46,37832</td>\n",
       "      <td>13,83648</td>\n",
       "      <td>vrh, bivak</td>\n",
       "    </tr>\n",
       "    <tr>\n",
       "      <th>2</th>\n",
       "      <td>Julijske Alpe</td>\n",
       "      <td>Aljažev dom v Vratih</td>\n",
       "      <td>1015</td>\n",
       "      <td>Triglav</td>\n",
       "      <td>2864</td>\n",
       "      <td>Tominškova pot</td>\n",
       "      <td>350</td>\n",
       "      <td>zelo zahtevna označena pot</td>\n",
       "      <td>1849</td>\n",
       "      <td>219792</td>\n",
       "      <td>8</td>\n",
       "      <td>13</td>\n",
       "      <td>46,37832</td>\n",
       "      <td>13,83648</td>\n",
       "      <td>vrh, bivak</td>\n",
       "    </tr>\n",
       "    <tr>\n",
       "      <th>3</th>\n",
       "      <td>Julijske Alpe</td>\n",
       "      <td>Aljažev dom v Vratih</td>\n",
       "      <td>1015</td>\n",
       "      <td>Triglav</td>\n",
       "      <td>2864</td>\n",
       "      <td>čez Prag</td>\n",
       "      <td>360</td>\n",
       "      <td>zelo zahtevna označena pot</td>\n",
       "      <td>1850</td>\n",
       "      <td>123470</td>\n",
       "      <td>9</td>\n",
       "      <td>12</td>\n",
       "      <td>46,37832</td>\n",
       "      <td>13,83648</td>\n",
       "      <td>vrh, bivak</td>\n",
       "    </tr>\n",
       "    <tr>\n",
       "      <th>4</th>\n",
       "      <td>Julijske Alpe</td>\n",
       "      <td>Aljažev dom v Vratih</td>\n",
       "      <td>1015</td>\n",
       "      <td>Triglav</td>\n",
       "      <td>2864</td>\n",
       "      <td>čez Plemenice</td>\n",
       "      <td>390</td>\n",
       "      <td>zelo zahtevna označena pot</td>\n",
       "      <td>1849</td>\n",
       "      <td>118601</td>\n",
       "      <td>9</td>\n",
       "      <td>13</td>\n",
       "      <td>46,37832</td>\n",
       "      <td>13,83648</td>\n",
       "      <td>vrh, bivak</td>\n",
       "    </tr>\n",
       "    <tr>\n",
       "      <th>5</th>\n",
       "      <td>Julijske Alpe</td>\n",
       "      <td>Dolina Kot</td>\n",
       "      <td>950</td>\n",
       "      <td>Triglav</td>\n",
       "      <td>2864</td>\n",
       "      <td>NaN</td>\n",
       "      <td>360</td>\n",
       "      <td>zelo zahtevna označena pot</td>\n",
       "      <td>2050</td>\n",
       "      <td>41559</td>\n",
       "      <td>8</td>\n",
       "      <td>8</td>\n",
       "      <td>46,37832</td>\n",
       "      <td>13,83648</td>\n",
       "      <td>vrh, bivak</td>\n",
       "    </tr>\n",
       "    <tr>\n",
       "      <th>6</th>\n",
       "      <td>Julijske Alpe</td>\n",
       "      <td>Dolina Krma</td>\n",
       "      <td>930</td>\n",
       "      <td>Triglav</td>\n",
       "      <td>2864</td>\n",
       "      <td>čez Kredarico</td>\n",
       "      <td>360</td>\n",
       "      <td>zelo zahtevna označena pot</td>\n",
       "      <td>1934</td>\n",
       "      <td>112269</td>\n",
       "      <td>8</td>\n",
       "      <td>5</td>\n",
       "      <td>46,37832</td>\n",
       "      <td>13,83648</td>\n",
       "      <td>vrh, bivak</td>\n",
       "    </tr>\n",
       "    <tr>\n",
       "      <th>7</th>\n",
       "      <td>Julijske Alpe</td>\n",
       "      <td>Dolina Krma</td>\n",
       "      <td>930</td>\n",
       "      <td>Triglav</td>\n",
       "      <td>2864</td>\n",
       "      <td>čez Planiko in Mali Triglav</td>\n",
       "      <td>360</td>\n",
       "      <td>zelo zahtevna označena pot</td>\n",
       "      <td>1934</td>\n",
       "      <td>114066</td>\n",
       "      <td>9</td>\n",
       "      <td>7</td>\n",
       "      <td>46,37832</td>\n",
       "      <td>13,83648</td>\n",
       "      <td>vrh, bivak</td>\n",
       "    </tr>\n",
       "    <tr>\n",
       "      <th>8</th>\n",
       "      <td>Julijske Alpe</td>\n",
       "      <td>Dolina Krma</td>\n",
       "      <td>930</td>\n",
       "      <td>Triglav</td>\n",
       "      <td>2864</td>\n",
       "      <td>čez Planiko in Triglavsko škrbino</td>\n",
       "      <td>345</td>\n",
       "      <td>zelo zahtevna označena pot</td>\n",
       "      <td>1934</td>\n",
       "      <td>34269</td>\n",
       "      <td>8</td>\n",
       "      <td>4</td>\n",
       "      <td>46,37832</td>\n",
       "      <td>13,83648</td>\n",
       "      <td>vrh, bivak</td>\n",
       "    </tr>\n",
       "    <tr>\n",
       "      <th>9</th>\n",
       "      <td>Julijske Alpe</td>\n",
       "      <td>Konec ceste na Pokljuki</td>\n",
       "      <td>1340</td>\n",
       "      <td>Triglav</td>\n",
       "      <td>2864</td>\n",
       "      <td>čez Kredarico</td>\n",
       "      <td>360</td>\n",
       "      <td>zelo zahtevna označena pot</td>\n",
       "      <td>1650</td>\n",
       "      <td>50305</td>\n",
       "      <td>9</td>\n",
       "      <td>7</td>\n",
       "      <td>46,37832</td>\n",
       "      <td>13,83648</td>\n",
       "      <td>vrh, bivak</td>\n",
       "    </tr>\n",
       "  </tbody>\n",
       "</table>\n",
       "</div>"
      ],
      "text/plain": [
       "         gorovje                izhodišče  višina_izhodišča     cilj  \\\n",
       "0  Julijske Alpe             Stara Fužina               600  Triglav   \n",
       "1  Julijske Alpe              Rudno polje              1347  Triglav   \n",
       "2  Julijske Alpe     Aljažev dom v Vratih              1015  Triglav   \n",
       "3  Julijske Alpe     Aljažev dom v Vratih              1015  Triglav   \n",
       "4  Julijske Alpe     Aljažev dom v Vratih              1015  Triglav   \n",
       "5  Julijske Alpe               Dolina Kot               950  Triglav   \n",
       "6  Julijske Alpe              Dolina Krma               930  Triglav   \n",
       "7  Julijske Alpe              Dolina Krma               930  Triglav   \n",
       "8  Julijske Alpe              Dolina Krma               930  Triglav   \n",
       "9  Julijske Alpe  Konec ceste na Pokljuki              1340  Triglav   \n",
       "\n",
       "   višina_cilja                        opomba_poti  čas_hoje  \\\n",
       "0          2864  čez Planiko in Triglavsko škrbino       450   \n",
       "1          2864                      čez Kredarico       380   \n",
       "2          2864                     Tominškova pot       350   \n",
       "3          2864                           čez Prag       360   \n",
       "4          2864                      čez Plemenice       390   \n",
       "5          2864                                NaN       360   \n",
       "6          2864                      čez Kredarico       360   \n",
       "7          2864        čez Planiko in Mali Triglav       360   \n",
       "8          2864  čez Planiko in Triglavsko škrbino       345   \n",
       "9          2864                      čez Kredarico       360   \n",
       "\n",
       "                   zahtevnost  višinska_razlika_po_poti  število_ogledov  \\\n",
       "0  zelo zahtevna označena pot                      2264            19345   \n",
       "1  zelo zahtevna označena pot                      1900            74961   \n",
       "2  zelo zahtevna označena pot                      1849           219792   \n",
       "3  zelo zahtevna označena pot                      1850           123470   \n",
       "4  zelo zahtevna označena pot                      1849           118601   \n",
       "5  zelo zahtevna označena pot                      2050            41559   \n",
       "6  zelo zahtevna označena pot                      1934           112269   \n",
       "7  zelo zahtevna označena pot                      1934           114066   \n",
       "8  zelo zahtevna označena pot                      1934            34269   \n",
       "9  zelo zahtevna označena pot                      1650            50305   \n",
       "\n",
       "   ocena  število_glasov širina_cilja dolžina_cilja vrsta_cilja  \n",
       "0      7               1     46,37832      13,83648  vrh, bivak  \n",
       "1      9               4     46,37832      13,83648  vrh, bivak  \n",
       "2      8              13     46,37832      13,83648  vrh, bivak  \n",
       "3      9              12     46,37832      13,83648  vrh, bivak  \n",
       "4      9              13     46,37832      13,83648  vrh, bivak  \n",
       "5      8               8     46,37832      13,83648  vrh, bivak  \n",
       "6      8               5     46,37832      13,83648  vrh, bivak  \n",
       "7      9               7     46,37832      13,83648  vrh, bivak  \n",
       "8      8               4     46,37832      13,83648  vrh, bivak  \n",
       "9      9               7     46,37832      13,83648  vrh, bivak  "
      ]
     },
     "execution_count": 3,
     "metadata": {},
     "output_type": "execute_result"
    }
   ],
   "source": [
    "izleti.head(10)"
   ]
  },
  {
   "cell_type": "markdown",
   "metadata": {},
   "source": [
    "## Nekaj osnovnih podatkov o pristopih na gore\n",
    "\n",
    "### Število izletov v posameznem gorovju"
   ]
  },
  {
   "cell_type": "code",
   "execution_count": 4,
   "metadata": {},
   "outputs": [
    {
     "data": {
      "text/plain": [
       "gorovje\n",
       "Julijske Alpe              551\n",
       "Kamniško Savinjske Alpe    236\n",
       "Karavanke                  147\n",
       "dtype: int64"
      ]
     },
     "execution_count": 4,
     "metadata": {},
     "output_type": "execute_result"
    }
   ],
   "source": [
    "izleti.groupby('gorovje').size()"
   ]
  },
  {
   "cell_type": "markdown",
   "metadata": {},
   "source": [
    "### Cilji z največ možnimi potmi"
   ]
  },
  {
   "cell_type": "code",
   "execution_count": 5,
   "metadata": {},
   "outputs": [
    {
     "data": {
      "text/plain": [
       "cilj\n",
       "Storžič                     30\n",
       "Triglav                     26\n",
       "Viševnik                    21\n",
       "Stol                        20\n",
       "Ojstrica                    17\n",
       "Prešernova koča na Stolu    14\n",
       "Begunjščica                 14\n",
       "Kordeževa glava (Peca)      14\n",
       "Grintovec                   14\n",
       "Jezerska Kočna              14\n",
       "Debela peč                  13\n",
       "Kalški greben               13\n",
       "Planjava                    12\n",
       "Krn                         12\n",
       "Prisank / Prisojnik         12\n",
       "dtype: int64"
      ]
     },
     "execution_count": 5,
     "metadata": {},
     "output_type": "execute_result"
    }
   ],
   "source": [
    "st_poti_na_cilj = izleti.groupby('cilj').size()\n",
    "st_poti_na_cilj.sort_values(ascending=False).head(15)"
   ]
  },
  {
   "cell_type": "markdown",
   "metadata": {},
   "source": [
    "Spodaj je zemljevid vseh vrhov, ki segajo nad 2000 m. Z rdečo piko sta označeni Ljubljana in Radovljica."
   ]
  },
  {
   "cell_type": "code",
   "execution_count": 6,
   "metadata": {},
   "outputs": [
    {
     "data": {
      "text/plain": [
       "Text(0,0.5,'Geografska širina')"
      ]
     },
     "execution_count": 6,
     "metadata": {},
     "output_type": "execute_result"
    },
    {
     "data": {
      "image/png": "[encoded data removed]",
      "text/plain": [
       "<matplotlib.figure.Figure at 0x1f33f54ab00>"
      ]
     },
     "metadata": {},
     "output_type": "display_data"
    }
   ],
   "source": [
    "izleti['dolžina_cilja_num'] = izleti['dolžina_cilja'].apply(orodja.str_to_float)\n",
    "izleti['širina_cilja_num'] = izleti['širina_cilja'].apply(orodja.str_to_float)\n",
    "zemljevid = izleti.plot.scatter('dolžina_cilja_num', 'širina_cilja_num')\n",
    "zemljevid.plot(14.172078, 46.342517, 'or')\n",
    "zemljevid.plot(14.5, 46.05, 'or')\n",
    "zemljevid.set_xlabel('Geografska dolžina')\n",
    "zemljevid.set_ylabel('Geografska širina')"
   ]
  },
  {
   "cell_type": "markdown",
   "metadata": {},
   "source": [
    "## Višinska razlika"
   ]
  },
  {
   "cell_type": "code",
   "execution_count": 7,
   "metadata": {
    "collapsed": true
   },
   "outputs": [],
   "source": [
    "izleti[\"višinska_razlika\"] = izleti[\"višina_cilja\"] - izleti['višina_izhodišča']"
   ]
  },
  {
   "cell_type": "code",
   "execution_count": 8,
   "metadata": {},
   "outputs": [
    {
     "data": {
      "text/html": [
       "<div>\n",
       "<style>\n",
       "    .dataframe thead tr:only-child th {\n",
       "        text-align: right;\n",
       "    }\n",
       "\n",
       "    .dataframe thead th {\n",
       "        text-align: left;\n",
       "    }\n",
       "\n",
       "    .dataframe tbody tr th {\n",
       "        vertical-align: top;\n",
       "    }\n",
       "</style>\n",
       "<table border=\"1\" class=\"dataframe\">\n",
       "  <thead>\n",
       "    <tr style=\"text-align: right;\">\n",
       "      <th></th>\n",
       "      <th>izhodišče</th>\n",
       "      <th>višina_izhodišča</th>\n",
       "      <th>cilj</th>\n",
       "      <th>višina_cilja</th>\n",
       "      <th>opomba_poti</th>\n",
       "      <th>višinska_razlika</th>\n",
       "    </tr>\n",
       "  </thead>\n",
       "  <tbody>\n",
       "    <tr>\n",
       "      <th>22</th>\n",
       "      <td>Srednja vas</td>\n",
       "      <td>583</td>\n",
       "      <td>Triglav</td>\n",
       "      <td>2864</td>\n",
       "      <td>Za Ribnico in čez Triglavsko škrbino</td>\n",
       "      <td>2281</td>\n",
       "    </tr>\n",
       "    <tr>\n",
       "      <th>12</th>\n",
       "      <td>Stara Fužina</td>\n",
       "      <td>600</td>\n",
       "      <td>Triglav</td>\n",
       "      <td>2864</td>\n",
       "      <td>čez Planiko in Mali Triglav</td>\n",
       "      <td>2264</td>\n",
       "    </tr>\n",
       "    <tr>\n",
       "      <th>0</th>\n",
       "      <td>Stara Fužina</td>\n",
       "      <td>600</td>\n",
       "      <td>Triglav</td>\n",
       "      <td>2864</td>\n",
       "      <td>čez Planiko in Triglavsko škrbino</td>\n",
       "      <td>2264</td>\n",
       "    </tr>\n",
       "    <tr>\n",
       "      <th>13</th>\n",
       "      <td>Zadnjica</td>\n",
       "      <td>650</td>\n",
       "      <td>Triglav</td>\n",
       "      <td>2864</td>\n",
       "      <td>čez Plemenice</td>\n",
       "      <td>2214</td>\n",
       "    </tr>\n",
       "    <tr>\n",
       "      <th>16</th>\n",
       "      <td>Zadnjica</td>\n",
       "      <td>650</td>\n",
       "      <td>Triglav</td>\n",
       "      <td>2864</td>\n",
       "      <td>čez Komar</td>\n",
       "      <td>2214</td>\n",
       "    </tr>\n",
       "    <tr>\n",
       "      <th>14</th>\n",
       "      <td>Zadnjica</td>\n",
       "      <td>650</td>\n",
       "      <td>Triglav</td>\n",
       "      <td>2864</td>\n",
       "      <td>čez Dolič</td>\n",
       "      <td>2214</td>\n",
       "    </tr>\n",
       "    <tr>\n",
       "      <th>18</th>\n",
       "      <td>Koča pri Savici</td>\n",
       "      <td>653</td>\n",
       "      <td>Triglav</td>\n",
       "      <td>2864</td>\n",
       "      <td>čez Triglavska jezera</td>\n",
       "      <td>2211</td>\n",
       "    </tr>\n",
       "    <tr>\n",
       "      <th>197</th>\n",
       "      <td>Zadnjica</td>\n",
       "      <td>650</td>\n",
       "      <td>Škrlatica</td>\n",
       "      <td>2740</td>\n",
       "      <td>NaN</td>\n",
       "      <td>2090</td>\n",
       "    </tr>\n",
       "    <tr>\n",
       "      <th>198</th>\n",
       "      <td>Gozd Martuljek</td>\n",
       "      <td>750</td>\n",
       "      <td>Škrlatica</td>\n",
       "      <td>2740</td>\n",
       "      <td>grebensko prečenje Mali Oltar-Škrlatica</td>\n",
       "      <td>1990</td>\n",
       "    </tr>\n",
       "    <tr>\n",
       "      <th>533</th>\n",
       "      <td>Zadnjica</td>\n",
       "      <td>650</td>\n",
       "      <td>Razor</td>\n",
       "      <td>2601</td>\n",
       "      <td>NaN</td>\n",
       "      <td>1951</td>\n",
       "    </tr>\n",
       "    <tr>\n",
       "      <th>451</th>\n",
       "      <td>Bavšica</td>\n",
       "      <td>698</td>\n",
       "      <td>Jalovec</td>\n",
       "      <td>2645</td>\n",
       "      <td>NaN</td>\n",
       "      <td>1947</td>\n",
       "    </tr>\n",
       "    <tr>\n",
       "      <th>6</th>\n",
       "      <td>Dolina Krma</td>\n",
       "      <td>930</td>\n",
       "      <td>Triglav</td>\n",
       "      <td>2864</td>\n",
       "      <td>čez Kredarico</td>\n",
       "      <td>1934</td>\n",
       "    </tr>\n",
       "    <tr>\n",
       "      <th>7</th>\n",
       "      <td>Dolina Krma</td>\n",
       "      <td>930</td>\n",
       "      <td>Triglav</td>\n",
       "      <td>2864</td>\n",
       "      <td>čez Planiko in Mali Triglav</td>\n",
       "      <td>1934</td>\n",
       "    </tr>\n",
       "    <tr>\n",
       "      <th>8</th>\n",
       "      <td>Dolina Krma</td>\n",
       "      <td>930</td>\n",
       "      <td>Triglav</td>\n",
       "      <td>2864</td>\n",
       "      <td>čez Planiko in Triglavsko škrbino</td>\n",
       "      <td>1934</td>\n",
       "    </tr>\n",
       "    <tr>\n",
       "      <th>19</th>\n",
       "      <td>Turkov rovt</td>\n",
       "      <td>941</td>\n",
       "      <td>Triglav</td>\n",
       "      <td>2864</td>\n",
       "      <td>po dolini Za Cmirom</td>\n",
       "      <td>1923</td>\n",
       "    </tr>\n",
       "  </tbody>\n",
       "</table>\n",
       "</div>"
      ],
      "text/plain": [
       "           izhodišče  višina_izhodišča       cilj  višina_cilja  \\\n",
       "22       Srednja vas               583    Triglav          2864   \n",
       "12      Stara Fužina               600    Triglav          2864   \n",
       "0       Stara Fužina               600    Triglav          2864   \n",
       "13          Zadnjica               650    Triglav          2864   \n",
       "16          Zadnjica               650    Triglav          2864   \n",
       "14          Zadnjica               650    Triglav          2864   \n",
       "18   Koča pri Savici               653    Triglav          2864   \n",
       "197         Zadnjica               650  Škrlatica          2740   \n",
       "198  Gozd Martuljek                750  Škrlatica          2740   \n",
       "533         Zadnjica               650      Razor          2601   \n",
       "451          Bavšica               698    Jalovec          2645   \n",
       "6        Dolina Krma               930    Triglav          2864   \n",
       "7        Dolina Krma               930    Triglav          2864   \n",
       "8        Dolina Krma               930    Triglav          2864   \n",
       "19      Turkov rovt                941    Triglav          2864   \n",
       "\n",
       "                                 opomba_poti  višinska_razlika  \n",
       "22      Za Ribnico in čez Triglavsko škrbino              2281  \n",
       "12               čez Planiko in Mali Triglav              2264  \n",
       "0          čez Planiko in Triglavsko škrbino              2264  \n",
       "13                             čez Plemenice              2214  \n",
       "16                                 čez Komar              2214  \n",
       "14                                 čez Dolič              2214  \n",
       "18                     čez Triglavska jezera              2211  \n",
       "197                                      NaN              2090  \n",
       "198  grebensko prečenje Mali Oltar-Škrlatica              1990  \n",
       "533                                      NaN              1951  \n",
       "451                                      NaN              1947  \n",
       "6                              čez Kredarico              1934  \n",
       "7                čez Planiko in Mali Triglav              1934  \n",
       "8          čez Planiko in Triglavsko škrbino              1934  \n",
       "19                       po dolini Za Cmirom              1923  "
      ]
     },
     "execution_count": 8,
     "metadata": {},
     "output_type": "execute_result"
    }
   ],
   "source": [
    "izleti.sort_values(\n",
    "    'višinska_razlika', ascending=False\n",
    ").head(15)[\n",
    "    ['izhodišče','višina_izhodišča', 'cilj', 'višina_cilja', 'opomba_poti', 'višinska_razlika']\n",
    "]"
   ]
  },
  {
   "cell_type": "markdown",
   "metadata": {},
   "source": [
    "### Povprečna višinska razlika pri pristopu na posamezno goro"
   ]
  },
  {
   "cell_type": "code",
   "execution_count": 9,
   "metadata": {},
   "outputs": [
    {
     "data": {
      "text/plain": [
       "cilj\n",
       "Škrlatica                1886.2\n",
       "Triglav                  1877.8\n",
       "Mišeljski Konec          1814.0\n",
       "Mala Martuljška Ponca    1751.0\n",
       "Široka peč               1747.0\n",
       "Mali Triglav             1731.7\n",
       "Visoki Rokav             1705.0\n",
       "Morbegna                 1704.3\n",
       "Mišelj vrh               1700.0\n",
       "Glava v Zaplanji         1690.5\n",
       "Name: višinska_razlika, dtype: float64"
      ]
     },
     "execution_count": 9,
     "metadata": {},
     "output_type": "execute_result"
    }
   ],
   "source": [
    "izleti.groupby('cilj').mean()['višinska_razlika'].sort_values(ascending=False).round(decimals=1).head(10)"
   ]
  },
  {
   "cell_type": "code",
   "execution_count": 10,
   "metadata": {},
   "outputs": [
    {
     "data": {
      "text/plain": [
       "cilj\n",
       "Dom Petra Skalarja na Kaninu    621.5\n",
       "Velika Zelenica                 614.0\n",
       "Veliki vrh (Veža)               610.0\n",
       "Pungartska gora                 595.0\n",
       "Mala Raduha                     529.0\n",
       "Molička peč                     529.0\n",
       "Mala Ojstrica                   517.0\n",
       "Suhi vrh                        498.0\n",
       "Šitna glava                     476.0\n",
       "Mali Kanin                      369.0\n",
       "Name: višinska_razlika, dtype: float64"
      ]
     },
     "execution_count": 10,
     "metadata": {},
     "output_type": "execute_result"
    }
   ],
   "source": [
    "izleti.groupby('cilj').mean()['višinska_razlika'].sort_values(ascending=False).round(decimals=1).tail(10)"
   ]
  },
  {
   "cell_type": "markdown",
   "metadata": {},
   "source": [
    "## Višinska razlika po poti"
   ]
  },
  {
   "cell_type": "markdown",
   "metadata": {},
   "source": [
    "### Povprečna višinska razlika po poti pri izletu na posamezno goro"
   ]
  },
  {
   "cell_type": "code",
   "execution_count": 11,
   "metadata": {},
   "outputs": [
    {
     "data": {
      "text/plain": [
       "cilj\n",
       "Škrlatica                  2572.5\n",
       "Triglav                    2057.8\n",
       "Morbegna                   1833.3\n",
       "Mišelj vrh                 1825.0\n",
       "Mišeljski Konec            1815.0\n",
       "Mala Martuljška Ponca      1800.0\n",
       "Velika Martuljška Ponca    1800.0\n",
       "Kanjavec                   1781.9\n",
       "Glava v Zaplanji           1775.2\n",
       "Mali Triglav               1773.3\n",
       "Široka peč                 1750.0\n",
       "Veliki Oltar               1750.0\n",
       "Razor                      1735.6\n",
       "Kanjavec (Zahodni vrh)     1727.5\n",
       "Skuta                      1724.7\n",
       "Name: višinska_razlika_po_poti, dtype: float64"
      ]
     },
     "execution_count": 11,
     "metadata": {},
     "output_type": "execute_result"
    }
   ],
   "source": [
    "izleti.groupby('cilj').mean()['višinska_razlika_po_poti'].sort_values(ascending=False).round(decimals=1).head(15)"
   ]
  },
  {
   "cell_type": "code",
   "execution_count": 12,
   "metadata": {},
   "outputs": [
    {
     "data": {
      "text/plain": [
       "cilj\n",
       "Velika Mojstrovka               800.0\n",
       "Zadnja Mojstrovka               800.0\n",
       "Toplar                          786.0\n",
       "Veliki vrh (Veža)               737.5\n",
       "Velika Zelenica                 726.2\n",
       "Brda                            716.4\n",
       "Mala Ojstrica                   700.0\n",
       "Konjc                           685.0\n",
       "Dom Petra Skalarja na Kaninu    685.0\n",
       "Molička peč                     608.3\n",
       "Mali Kanin                      600.0\n",
       "Suhi vrh                        600.0\n",
       "Pungartska gora                 595.0\n",
       "Mala Raduha                     529.0\n",
       "Šitna glava                     476.0\n",
       "Name: višinska_razlika_po_poti, dtype: float64"
      ]
     },
     "execution_count": 12,
     "metadata": {},
     "output_type": "execute_result"
    }
   ],
   "source": [
    "izleti.groupby('cilj').mean()['višinska_razlika_po_poti'].sort_values(ascending=False).round(decimals=1).tail(15)"
   ]
  },
  {
   "cell_type": "markdown",
   "metadata": {},
   "source": [
    "## Zahtevnosti poti"
   ]
  },
  {
   "cell_type": "markdown",
   "metadata": {},
   "source": [
    "### Zahtevnost poti po gorovjih"
   ]
  },
  {
   "cell_type": "markdown",
   "metadata": {},
   "source": [
    "Ogledali si bomo, kakšnih poti je po posameznem gorovju največ in kakšna je \"povprečna zahtevnost\" poti po gorovjih. Naj omenim, da ena pot sovpada z enim izletom."
   ]
  },
  {
   "cell_type": "code",
   "execution_count": 13,
   "metadata": {
    "collapsed": true
   },
   "outputs": [],
   "source": [
    "izleti['zahtevnost_št'] = izleti['zahtevnost'].apply(orodja.pretvori_zahtevnost)"
   ]
  },
  {
   "cell_type": "markdown",
   "metadata": {},
   "source": [
    "#### Julijske Alpe"
   ]
  },
  {
   "cell_type": "markdown",
   "metadata": {},
   "source": [
    "Zanima nas, kakšnih poti je po Slovenskih Julijcih največ"
   ]
  },
  {
   "cell_type": "code",
   "execution_count": 14,
   "metadata": {},
   "outputs": [
    {
     "data": {
      "text/plain": [
       "'zelo zahtevna označena pot'"
      ]
     },
     "execution_count": 14,
     "metadata": {},
     "output_type": "execute_result"
    }
   ],
   "source": [
    "julijci = izleti[izleti['gorovje']=='Julijske Alpe']\n",
    "julijci['zahtevnost'].value_counts().argmax()"
   ]
  },
  {
   "cell_type": "markdown",
   "metadata": {},
   "source": [
    "Delež zelo zahtevnih označenih poti v Julijskih Alpah pa preberemo:"
   ]
  },
  {
   "cell_type": "code",
   "execution_count": 15,
   "metadata": {},
   "outputs": [
    {
     "data": {
      "text/plain": [
       "'19.4%'"
      ]
     },
     "execution_count": 15,
     "metadata": {},
     "output_type": "execute_result"
    }
   ],
   "source": [
    "\"{:.1%}\".format(julijci.groupby('zahtevnost').size().max() / len(julijci.index))"
   ]
  },
  {
   "cell_type": "markdown",
   "metadata": {},
   "source": [
    "Izračunajmo \"povprečno zahtevnost\" poti po Julijcih:"
   ]
  },
  {
   "cell_type": "code",
   "execution_count": 16,
   "metadata": {},
   "outputs": [
    {
     "data": {
      "text/plain": [
       "'zahtevna pot'"
      ]
     },
     "execution_count": 16,
     "metadata": {},
     "output_type": "execute_result"
    }
   ],
   "source": [
    "orodja.pretvori_stevilo(round(julijci['zahtevnost_št'].mean()))"
   ]
  },
  {
   "cell_type": "markdown",
   "metadata": {},
   "source": [
    "#### Karavanke"
   ]
  },
  {
   "cell_type": "markdown",
   "metadata": {},
   "source": [
    "V Karavankah je najpogostejša pot:"
   ]
  },
  {
   "cell_type": "code",
   "execution_count": 17,
   "metadata": {},
   "outputs": [
    {
     "data": {
      "text/plain": [
       "'lahka označena pot'"
      ]
     },
     "execution_count": 17,
     "metadata": {},
     "output_type": "execute_result"
    }
   ],
   "source": [
    "karav = izleti[izleti['gorovje']=='Karavanke']\n",
    "karav['zahtevnost'].value_counts().argmax()"
   ]
  },
  {
   "cell_type": "markdown",
   "metadata": {},
   "source": [
    "Takih poti je"
   ]
  },
  {
   "cell_type": "code",
   "execution_count": 18,
   "metadata": {},
   "outputs": [
    {
     "data": {
      "text/plain": [
       "'25.9%'"
      ]
     },
     "execution_count": 18,
     "metadata": {},
     "output_type": "execute_result"
    }
   ],
   "source": [
    "\"{:.1%}\".format(karav.groupby('zahtevnost').size().max() / len(karav.index))"
   ]
  },
  {
   "cell_type": "markdown",
   "metadata": {},
   "source": [
    "Povprečna zahtevnost je"
   ]
  },
  {
   "cell_type": "code",
   "execution_count": 19,
   "metadata": {},
   "outputs": [
    {
     "data": {
      "text/plain": [
       "'delno zahtevna pot'"
      ]
     },
     "execution_count": 19,
     "metadata": {},
     "output_type": "execute_result"
    }
   ],
   "source": [
    "orodja.pretvori_stevilo(round(karav['zahtevnost_št'].mean()))"
   ]
  },
  {
   "cell_type": "markdown",
   "metadata": {},
   "source": [
    "#### Kamniško Savinjske Alpe"
   ]
  },
  {
   "cell_type": "markdown",
   "metadata": {},
   "source": [
    "Najpogostejša pot:"
   ]
  },
  {
   "cell_type": "code",
   "execution_count": 20,
   "metadata": {},
   "outputs": [
    {
     "data": {
      "text/plain": [
       "'zelo zahtevna označena pot'"
      ]
     },
     "execution_count": 20,
     "metadata": {},
     "output_type": "execute_result"
    }
   ],
   "source": [
    "ksa = izleti[izleti['gorovje']=='Kamniško Savinjske Alpe']\n",
    "ksa['zahtevnost'].value_counts().argmax()"
   ]
  },
  {
   "cell_type": "markdown",
   "metadata": {},
   "source": [
    "Takih poti je"
   ]
  },
  {
   "cell_type": "code",
   "execution_count": 21,
   "metadata": {},
   "outputs": [
    {
     "data": {
      "text/plain": [
       "'30.9%'"
      ]
     },
     "execution_count": 21,
     "metadata": {},
     "output_type": "execute_result"
    }
   ],
   "source": [
    "\"{:.1%}\".format(ksa.groupby('zahtevnost').size().max() / len(ksa.index))"
   ]
  },
  {
   "cell_type": "markdown",
   "metadata": {},
   "source": [
    "Povprečna zahtevnost:"
   ]
  },
  {
   "cell_type": "code",
   "execution_count": 22,
   "metadata": {},
   "outputs": [
    {
     "data": {
      "text/plain": [
       "'zahtevna pot'"
      ]
     },
     "execution_count": 22,
     "metadata": {},
     "output_type": "execute_result"
    }
   ],
   "source": [
    "orodja.pretvori_stevilo(round(ksa['zahtevnost_št'].mean()))"
   ]
  },
  {
   "cell_type": "markdown",
   "metadata": {},
   "source": [
    "### Zahtevnost pristopov na goro"
   ]
  },
  {
   "cell_type": "markdown",
   "metadata": {},
   "source": [
    "Če si torej izberemo goro za sobotni izlet, a smo v planinstvu popolni začetniki, kolikšna je verjetnost, da na naš izbrani cilj vodi lahka pot? No, na to vprašanje ne odgovorimo povsem eksaktno, nam pa spodnji graf pove bistvo: koliko je ciljev, na katere je neka vrsta poti najenostavnejši pristop."
   ]
  },
  {
   "cell_type": "code",
   "execution_count": 23,
   "metadata": {
    "scrolled": false
   },
   "outputs": [
    {
     "data": {
      "text/plain": [
       "Text(0,0.5,'Število gora')"
      ]
     },
     "execution_count": 23,
     "metadata": {},
     "output_type": "execute_result"
    },
    {
     "data": {
      "image/png": "[encoded data removed]",
      "text/plain": [
       "<matplotlib.figure.Figure at 0x1f33f53a9e8>"
      ]
     },
     "metadata": {},
     "output_type": "display_data"
    }
   ],
   "source": [
    "graf_najlazjega_dostopa = izleti.groupby('cilj').min()[\n",
    "    'zahtevnost_št'\n",
    "].sort_values().apply(\n",
    "    orodja.pretvori_stevilo\n",
    ").to_frame().groupby('zahtevnost_št').size().plot.bar()\n",
    "graf_najlazjega_dostopa.set_xlabel('Najlažji dostop')\n",
    "graf_najlazjega_dostopa.set_ylabel('Število gora')"
   ]
  },
  {
   "cell_type": "markdown",
   "metadata": {},
   "source": [
    "Vidimo, da na večino gora lahko prispemo po lahki poti, lahko pa imamo smolo in si za cilj izberemo kakšnega od redkih vrhov, na katerega vodi le alpinistični vzpon."
   ]
  },
  {
   "cell_type": "markdown",
   "metadata": {},
   "source": [
    "## Označenost poti"
   ]
  },
  {
   "cell_type": "code",
   "execution_count": 24,
   "metadata": {
    "collapsed": true
   },
   "outputs": [],
   "source": [
    "izleti['označenost_št'] = izleti['zahtevnost'].apply(orodja.oznacenost)\n",
    "izleti['označenost'] = izleti['zahtevnost'].apply(orodja.oznacenost).apply(orodja.pretvori_oznacenost)"
   ]
  },
  {
   "cell_type": "markdown",
   "metadata": {},
   "source": [
    "#### Pristopi na gore glede na najboljšo označenost"
   ]
  },
  {
   "cell_type": "markdown",
   "metadata": {},
   "source": [
    "Na podoben način kot zahtevnost poti bomo analizirali označenost. Spodnji graf prikazuje, koliko je ciljev, na katere vodijo označene in neoznačene poti, ter na koliko ciljev \"vodi\" samo brezpotje."
   ]
  },
  {
   "cell_type": "code",
   "execution_count": 25,
   "metadata": {},
   "outputs": [
    {
     "data": {
      "text/plain": [
       "Text(0,0.5,'Število gora')"
      ]
     },
     "execution_count": 25,
     "metadata": {},
     "output_type": "execute_result"
    },
    {
     "data": {
      "image/png": "[encoded data removed]",
      "text/plain": [
       "<matplotlib.figure.Figure at 0x1f3409187f0>"
      ]
     },
     "metadata": {},
     "output_type": "display_data"
    }
   ],
   "source": [
    "graf2 = izleti.groupby('cilj').min()[\n",
    "    'označenost_št'\n",
    "].apply(\n",
    "    orodja.pretvori_oznacenost\n",
    ").to_frame().groupby('označenost_št').size().plot.bar()\n",
    "graf2.set_xlabel('Najboljša označenost')\n",
    "graf2.set_ylabel('Število gora')"
   ]
  },
  {
   "cell_type": "markdown",
   "metadata": {},
   "source": [
    "Vidimo, da je večina slovenskih dvatisočakov opremljena z vsaj eno označeno potjo."
   ]
  },
  {
   "cell_type": "code",
   "execution_count": 26,
   "metadata": {
    "collapsed": true
   },
   "outputs": [],
   "source": [
    "st_oznacenosti_glede_na_cilj = pd.crosstab(\n",
    "    izleti.označenost,\n",
    "    izleti.cilj\n",
    ")\n",
    "\n",
    "tabela1 = st_oznacenosti_glede_na_cilj / st_poti_na_cilj\n",
    "tabela2 = tabela1.transpose()\n",
    "\n",
    "oznacenost_cilja = tabela2['označena pot']\n",
    "izleti = izleti.join(oznacenost_cilja, on='cilj')"
   ]
  },
  {
   "cell_type": "code",
   "execution_count": 27,
   "metadata": {},
   "outputs": [
    {
     "data": {
      "text/html": [
       "<div>\n",
       "<style>\n",
       "    .dataframe thead tr:only-child th {\n",
       "        text-align: right;\n",
       "    }\n",
       "\n",
       "    .dataframe thead th {\n",
       "        text-align: left;\n",
       "    }\n",
       "\n",
       "    .dataframe tbody tr th {\n",
       "        vertical-align: top;\n",
       "    }\n",
       "</style>\n",
       "<table border=\"1\" class=\"dataframe\">\n",
       "  <thead>\n",
       "    <tr style=\"text-align: right;\">\n",
       "      <th>označenost</th>\n",
       "      <th>brezpotje</th>\n",
       "      <th>neoznačena pot</th>\n",
       "      <th>označena pot</th>\n",
       "    </tr>\n",
       "    <tr>\n",
       "      <th>cilj</th>\n",
       "      <th></th>\n",
       "      <th></th>\n",
       "      <th></th>\n",
       "    </tr>\n",
       "  </thead>\n",
       "  <tbody>\n",
       "    <tr>\n",
       "      <th>Ablanca</th>\n",
       "      <td>0</td>\n",
       "      <td>9</td>\n",
       "      <td>0</td>\n",
       "    </tr>\n",
       "    <tr>\n",
       "      <th>Adam</th>\n",
       "      <td>1</td>\n",
       "      <td>0</td>\n",
       "      <td>0</td>\n",
       "    </tr>\n",
       "    <tr>\n",
       "      <th>Batognica</th>\n",
       "      <td>0</td>\n",
       "      <td>1</td>\n",
       "      <td>8</td>\n",
       "    </tr>\n",
       "    <tr>\n",
       "      <th>Bavški Grintavec</th>\n",
       "      <td>0</td>\n",
       "      <td>0</td>\n",
       "      <td>3</td>\n",
       "    </tr>\n",
       "    <tr>\n",
       "      <th>Begunjski vrh</th>\n",
       "      <td>1</td>\n",
       "      <td>0</td>\n",
       "      <td>5</td>\n",
       "    </tr>\n",
       "    <tr>\n",
       "      <th>Begunjščica</th>\n",
       "      <td>3</td>\n",
       "      <td>2</td>\n",
       "      <td>9</td>\n",
       "    </tr>\n",
       "    <tr>\n",
       "      <th>Bivak na Jezerih</th>\n",
       "      <td>0</td>\n",
       "      <td>1</td>\n",
       "      <td>0</td>\n",
       "    </tr>\n",
       "    <tr>\n",
       "      <th>Bivak pod Grintovcem</th>\n",
       "      <td>0</td>\n",
       "      <td>1</td>\n",
       "      <td>2</td>\n",
       "    </tr>\n",
       "    <tr>\n",
       "      <th>Bivak pod Skuto</th>\n",
       "      <td>0</td>\n",
       "      <td>1</td>\n",
       "      <td>0</td>\n",
       "    </tr>\n",
       "    <tr>\n",
       "      <th>Bovški Gamsovec</th>\n",
       "      <td>0</td>\n",
       "      <td>0</td>\n",
       "      <td>3</td>\n",
       "    </tr>\n",
       "    <tr>\n",
       "      <th>Brana</th>\n",
       "      <td>0</td>\n",
       "      <td>0</td>\n",
       "      <td>4</td>\n",
       "    </tr>\n",
       "    <tr>\n",
       "      <th>Brda</th>\n",
       "      <td>0</td>\n",
       "      <td>0</td>\n",
       "      <td>9</td>\n",
       "    </tr>\n",
       "    <tr>\n",
       "      <th>Briceljk</th>\n",
       "      <td>0</td>\n",
       "      <td>1</td>\n",
       "      <td>0</td>\n",
       "    </tr>\n",
       "    <tr>\n",
       "      <th>Cesar</th>\n",
       "      <td>1</td>\n",
       "      <td>0</td>\n",
       "      <td>0</td>\n",
       "    </tr>\n",
       "    <tr>\n",
       "      <th>Cmir</th>\n",
       "      <td>0</td>\n",
       "      <td>0</td>\n",
       "      <td>4</td>\n",
       "    </tr>\n",
       "    <tr>\n",
       "      <th>Debela peč</th>\n",
       "      <td>3</td>\n",
       "      <td>0</td>\n",
       "      <td>10</td>\n",
       "    </tr>\n",
       "    <tr>\n",
       "      <th>Debeli vrh</th>\n",
       "      <td>1</td>\n",
       "      <td>0</td>\n",
       "      <td>0</td>\n",
       "    </tr>\n",
       "    <tr>\n",
       "      <th>Dolgi hrbet</th>\n",
       "      <td>0</td>\n",
       "      <td>1</td>\n",
       "      <td>5</td>\n",
       "    </tr>\n",
       "    <tr>\n",
       "      <th>Dolkova špica</th>\n",
       "      <td>1</td>\n",
       "      <td>0</td>\n",
       "      <td>4</td>\n",
       "    </tr>\n",
       "    <tr>\n",
       "      <th>Dom Petra Skalarja na Kaninu</th>\n",
       "      <td>0</td>\n",
       "      <td>0</td>\n",
       "      <td>2</td>\n",
       "    </tr>\n",
       "    <tr>\n",
       "      <th>Dom Planika pod Triglavom</th>\n",
       "      <td>0</td>\n",
       "      <td>1</td>\n",
       "      <td>7</td>\n",
       "    </tr>\n",
       "    <tr>\n",
       "      <th>Dom Valentina Staniča pod Triglavom</th>\n",
       "      <td>1</td>\n",
       "      <td>1</td>\n",
       "      <td>7</td>\n",
       "    </tr>\n",
       "    <tr>\n",
       "      <th>Dovška Mala Kepa</th>\n",
       "      <td>0</td>\n",
       "      <td>1</td>\n",
       "      <td>0</td>\n",
       "    </tr>\n",
       "    <tr>\n",
       "      <th>Dovški križ</th>\n",
       "      <td>0</td>\n",
       "      <td>2</td>\n",
       "      <td>0</td>\n",
       "    </tr>\n",
       "    <tr>\n",
       "      <th>Drobeče Sleme</th>\n",
       "      <td>0</td>\n",
       "      <td>1</td>\n",
       "      <td>0</td>\n",
       "    </tr>\n",
       "    <tr>\n",
       "      <th>Eva</th>\n",
       "      <td>1</td>\n",
       "      <td>0</td>\n",
       "      <td>0</td>\n",
       "    </tr>\n",
       "    <tr>\n",
       "      <th>Glava v Zaplanji</th>\n",
       "      <td>0</td>\n",
       "      <td>4</td>\n",
       "      <td>0</td>\n",
       "    </tr>\n",
       "    <tr>\n",
       "      <th>Goličica</th>\n",
       "      <td>0</td>\n",
       "      <td>1</td>\n",
       "      <td>0</td>\n",
       "    </tr>\n",
       "    <tr>\n",
       "      <th>Gomiščkovo zavetišče na Krnu</th>\n",
       "      <td>0</td>\n",
       "      <td>0</td>\n",
       "      <td>5</td>\n",
       "    </tr>\n",
       "    <tr>\n",
       "      <th>Grintovec</th>\n",
       "      <td>1</td>\n",
       "      <td>1</td>\n",
       "      <td>12</td>\n",
       "    </tr>\n",
       "    <tr>\n",
       "      <th>...</th>\n",
       "      <td>...</td>\n",
       "      <td>...</td>\n",
       "      <td>...</td>\n",
       "    </tr>\n",
       "    <tr>\n",
       "      <th>Vodnikov Vršac (Vršac nad Zadnjico)</th>\n",
       "      <td>3</td>\n",
       "      <td>0</td>\n",
       "      <td>0</td>\n",
       "    </tr>\n",
       "    <tr>\n",
       "      <th>Vrh Hribaric</th>\n",
       "      <td>4</td>\n",
       "      <td>0</td>\n",
       "      <td>0</td>\n",
       "    </tr>\n",
       "    <tr>\n",
       "      <th>Vrh Snežne konte</th>\n",
       "      <td>3</td>\n",
       "      <td>0</td>\n",
       "      <td>0</td>\n",
       "    </tr>\n",
       "    <tr>\n",
       "      <th>Vrh nad Peski</th>\n",
       "      <td>0</td>\n",
       "      <td>6</td>\n",
       "      <td>0</td>\n",
       "    </tr>\n",
       "    <tr>\n",
       "      <th>Vrh nad Škrbino</th>\n",
       "      <td>1</td>\n",
       "      <td>1</td>\n",
       "      <td>8</td>\n",
       "    </tr>\n",
       "    <tr>\n",
       "      <th>Vrtača</th>\n",
       "      <td>3</td>\n",
       "      <td>3</td>\n",
       "      <td>6</td>\n",
       "    </tr>\n",
       "    <tr>\n",
       "      <th>Vršaki (Južni vrh)</th>\n",
       "      <td>2</td>\n",
       "      <td>0</td>\n",
       "      <td>0</td>\n",
       "    </tr>\n",
       "    <tr>\n",
       "      <th>Vršaki (Srednji vrh)</th>\n",
       "      <td>2</td>\n",
       "      <td>0</td>\n",
       "      <td>0</td>\n",
       "    </tr>\n",
       "    <tr>\n",
       "      <th>Vršaki (Vrh za Koritami)</th>\n",
       "      <td>2</td>\n",
       "      <td>0</td>\n",
       "      <td>0</td>\n",
       "    </tr>\n",
       "    <tr>\n",
       "      <th>Vršaki (Vzhodni vrh)</th>\n",
       "      <td>4</td>\n",
       "      <td>0</td>\n",
       "      <td>0</td>\n",
       "    </tr>\n",
       "    <tr>\n",
       "      <th>Zadnja Mojstrovka</th>\n",
       "      <td>1</td>\n",
       "      <td>0</td>\n",
       "      <td>0</td>\n",
       "    </tr>\n",
       "    <tr>\n",
       "      <th>Zadnja Ponca</th>\n",
       "      <td>0</td>\n",
       "      <td>0</td>\n",
       "      <td>2</td>\n",
       "    </tr>\n",
       "    <tr>\n",
       "      <th>Zadnji Vogel</th>\n",
       "      <td>1</td>\n",
       "      <td>0</td>\n",
       "      <td>0</td>\n",
       "    </tr>\n",
       "    <tr>\n",
       "      <th>Zadnjiški Ozebnik</th>\n",
       "      <td>0</td>\n",
       "      <td>2</td>\n",
       "      <td>0</td>\n",
       "    </tr>\n",
       "    <tr>\n",
       "      <th>Zasavska koča na Prehodavcih</th>\n",
       "      <td>0</td>\n",
       "      <td>0</td>\n",
       "      <td>7</td>\n",
       "    </tr>\n",
       "    <tr>\n",
       "      <th>Zavetišče pod Špičkom</th>\n",
       "      <td>0</td>\n",
       "      <td>0</td>\n",
       "      <td>4</td>\n",
       "    </tr>\n",
       "    <tr>\n",
       "      <th>Zeleni vrh</th>\n",
       "      <td>0</td>\n",
       "      <td>1</td>\n",
       "      <td>4</td>\n",
       "    </tr>\n",
       "    <tr>\n",
       "      <th>Zelenjak</th>\n",
       "      <td>0</td>\n",
       "      <td>3</td>\n",
       "      <td>0</td>\n",
       "    </tr>\n",
       "    <tr>\n",
       "      <th>Zgornje Kriško jezero</th>\n",
       "      <td>0</td>\n",
       "      <td>2</td>\n",
       "      <td>0</td>\n",
       "    </tr>\n",
       "    <tr>\n",
       "      <th>Čelo</th>\n",
       "      <td>7</td>\n",
       "      <td>0</td>\n",
       "      <td>0</td>\n",
       "    </tr>\n",
       "    <tr>\n",
       "      <th>Široka peč</th>\n",
       "      <td>1</td>\n",
       "      <td>0</td>\n",
       "      <td>0</td>\n",
       "    </tr>\n",
       "    <tr>\n",
       "      <th>Šitna glava</th>\n",
       "      <td>0</td>\n",
       "      <td>1</td>\n",
       "      <td>0</td>\n",
       "    </tr>\n",
       "    <tr>\n",
       "      <th>Škednjovec</th>\n",
       "      <td>2</td>\n",
       "      <td>0</td>\n",
       "      <td>0</td>\n",
       "    </tr>\n",
       "    <tr>\n",
       "      <th>Škrlatica</th>\n",
       "      <td>0</td>\n",
       "      <td>0</td>\n",
       "      <td>4</td>\n",
       "    </tr>\n",
       "    <tr>\n",
       "      <th>Šmarjetna glava</th>\n",
       "      <td>4</td>\n",
       "      <td>0</td>\n",
       "      <td>0</td>\n",
       "    </tr>\n",
       "    <tr>\n",
       "      <th>Špik</th>\n",
       "      <td>0</td>\n",
       "      <td>0</td>\n",
       "      <td>5</td>\n",
       "    </tr>\n",
       "    <tr>\n",
       "      <th>Šplevta</th>\n",
       "      <td>0</td>\n",
       "      <td>2</td>\n",
       "      <td>0</td>\n",
       "    </tr>\n",
       "    <tr>\n",
       "      <th>Šplevta (Indijanec)</th>\n",
       "      <td>2</td>\n",
       "      <td>0</td>\n",
       "      <td>0</td>\n",
       "    </tr>\n",
       "    <tr>\n",
       "      <th>Štajerska Rinka</th>\n",
       "      <td>0</td>\n",
       "      <td>1</td>\n",
       "      <td>4</td>\n",
       "    </tr>\n",
       "    <tr>\n",
       "      <th>Štruca</th>\n",
       "      <td>7</td>\n",
       "      <td>0</td>\n",
       "      <td>0</td>\n",
       "    </tr>\n",
       "  </tbody>\n",
       "</table>\n",
       "<p>198 rows × 3 columns</p>\n",
       "</div>"
      ],
      "text/plain": [
       "označenost                           brezpotje  neoznačena pot  označena pot\n",
       "cilj                                                                        \n",
       "Ablanca                                      0               9             0\n",
       "Adam                                         1               0             0\n",
       "Batognica                                    0               1             8\n",
       "Bavški Grintavec                             0               0             3\n",
       "Begunjski vrh                                1               0             5\n",
       "Begunjščica                                  3               2             9\n",
       "Bivak na Jezerih                             0               1             0\n",
       "Bivak pod Grintovcem                         0               1             2\n",
       "Bivak pod Skuto                              0               1             0\n",
       "Bovški Gamsovec                              0               0             3\n",
       "Brana                                        0               0             4\n",
       "Brda                                         0               0             9\n",
       "Briceljk                                     0               1             0\n",
       "Cesar                                        1               0             0\n",
       "Cmir                                         0               0             4\n",
       "Debela peč                                   3               0            10\n",
       "Debeli vrh                                   1               0             0\n",
       "Dolgi hrbet                                  0               1             5\n",
       "Dolkova špica                                1               0             4\n",
       "Dom Petra Skalarja na Kaninu                 0               0             2\n",
       "Dom Planika pod Triglavom                    0               1             7\n",
       "Dom Valentina Staniča pod Triglavom          1               1             7\n",
       "Dovška Mala Kepa                             0               1             0\n",
       "Dovški križ                                  0               2             0\n",
       "Drobeče Sleme                                0               1             0\n",
       "Eva                                          1               0             0\n",
       "Glava v Zaplanji                             0               4             0\n",
       "Goličica                                     0               1             0\n",
       "Gomiščkovo zavetišče na Krnu                 0               0             5\n",
       "Grintovec                                    1               1            12\n",
       "...                                        ...             ...           ...\n",
       "Vodnikov Vršac (Vršac nad Zadnjico)          3               0             0\n",
       "Vrh Hribaric                                 4               0             0\n",
       "Vrh Snežne konte                             3               0             0\n",
       "Vrh nad Peski                                0               6             0\n",
       "Vrh nad Škrbino                              1               1             8\n",
       "Vrtača                                       3               3             6\n",
       "Vršaki (Južni vrh)                           2               0             0\n",
       "Vršaki (Srednji vrh)                         2               0             0\n",
       "Vršaki (Vrh za Koritami)                     2               0             0\n",
       "Vršaki (Vzhodni vrh)                         4               0             0\n",
       "Zadnja Mojstrovka                            1               0             0\n",
       "Zadnja Ponca                                 0               0             2\n",
       "Zadnji Vogel                                 1               0             0\n",
       "Zadnjiški Ozebnik                            0               2             0\n",
       "Zasavska koča na Prehodavcih                 0               0             7\n",
       "Zavetišče pod Špičkom                        0               0             4\n",
       "Zeleni vrh                                   0               1             4\n",
       "Zelenjak                                     0               3             0\n",
       "Zgornje Kriško jezero                        0               2             0\n",
       "Čelo                                         7               0             0\n",
       "Široka peč                                   1               0             0\n",
       "Šitna glava                                  0               1             0\n",
       "Škednjovec                                   2               0             0\n",
       "Škrlatica                                    0               0             4\n",
       "Šmarjetna glava                              4               0             0\n",
       "Špik                                         0               0             5\n",
       "Šplevta                                      0               2             0\n",
       "Šplevta (Indijanec)                          2               0             0\n",
       "Štajerska Rinka                              0               1             4\n",
       "Štruca                                       7               0             0\n",
       "\n",
       "[198 rows x 3 columns]"
      ]
     },
     "execution_count": 27,
     "metadata": {},
     "output_type": "execute_result"
    }
   ],
   "source": [
    "st_oznacenosti_glede_na_cilj.transpose()"
   ]
  },
  {
   "cell_type": "markdown",
   "metadata": {},
   "source": [
    "Za vsak cilj ugotovimo še, ali nanj vodi kakšna označena pot. To bomo uporabili kasneje."
   ]
  },
  {
   "cell_type": "code",
   "execution_count": 28,
   "metadata": {
    "collapsed": true
   },
   "outputs": [],
   "source": [
    "def oznaci(stev):\n",
    "    if stev > 0:\n",
    "        return True\n",
    "    else:\n",
    "        return False\n",
    "\n",
    "cilji = izleti.groupby('cilj')['višina_cilja'].mean().to_frame()\n",
    "cilj_je_dostopen = oznacenost_cilja.apply(oznaci).to_frame()\n",
    "dostopnost_cilja = cilji.join(cilj_je_dostopen)"
   ]
  },
  {
   "cell_type": "markdown",
   "metadata": {},
   "source": [
    "## Analiza podatkov glede na različne vrste višin"
   ]
  },
  {
   "cell_type": "code",
   "execution_count": 29,
   "metadata": {
    "collapsed": true
   },
   "outputs": [],
   "source": [
    "izleti['hitrost'] = izleti.višinska_razlika / izleti.čas_hoje"
   ]
  },
  {
   "cell_type": "markdown",
   "metadata": {},
   "source": [
    "Ker ne analiziram gora, marveč poti nanje, se bom osredinil na razrede, ki nastanejo po delitvi izletov glede na njihovo višinsko razliko in, kadar bo situacija tako nanesla, uporabil tudi delitev glede na nadmorsko višino cilja.\n",
    "\n",
    "Najprej si oglejmo, koliko je sploh izletov v posameznem razredu. Pričakujemo, da bo malo izletov z zelo majhno višinsko razliko, saj je malo izhodišč z nadmorsko višino okrog 2000 m. Prav tako najbrž ne bo veliko izletov z višinsko razliko nad 2000 m, saj bi to pomenilo, da se moramo vzpeti na dvatisočak od zelo daleč (blizu tako visoke gore so tudi izhodišča visoka)."
   ]
  },
  {
   "cell_type": "code",
   "execution_count": 30,
   "metadata": {
    "collapsed": true
   },
   "outputs": [],
   "source": [
    "izleti['višinski_razred'] = (izleti['višinska_razlika'] // 100) * 100"
   ]
  },
  {
   "cell_type": "code",
   "execution_count": 31,
   "metadata": {},
   "outputs": [
    {
     "data": {
      "text/plain": [
       "<matplotlib.axes._subplots.AxesSubplot at 0x1f340946240>"
      ]
     },
     "execution_count": 31,
     "metadata": {},
     "output_type": "execute_result"
    },
    {
     "data": {
      "image/png": "[encoded data removed]",
      "text/plain": [
       "<matplotlib.figure.Figure at 0x1f3407a3c18>"
      ]
     },
     "metadata": {},
     "output_type": "display_data"
    }
   ],
   "source": [
    "razredi = izleti.groupby('višinski_razred')\n",
    "razredi.size().plot.bar()"
   ]
  },
  {
   "cell_type": "markdown",
   "metadata": {},
   "source": [
    "Vidimo, da je največ izletov z višinsko razliko okrog 1500 m in je res malo skrajnih vrednosti.\n",
    "\n",
    "\n",
    "Zdaj nas zanima, kako hitro prelezemo neko višinsko razliko. Pričakujemo, da bomo večje višinske razlike premagovali hitreje, saj bo pot strmejša in bomo hitreje dobivali višino. Spodnji graf prikazuje, koliko višinskih metrov naredimo na minuto."
   ]
  },
  {
   "cell_type": "code",
   "execution_count": 32,
   "metadata": {},
   "outputs": [
    {
     "data": {
      "text/plain": [
       "<matplotlib.axes._subplots.AxesSubplot at 0x1f340a6dcc0>"
      ]
     },
     "execution_count": 32,
     "metadata": {},
     "output_type": "execute_result"
    },
    {
     "data": {
      "image/png": "[encoded data removed]",
      "text/plain": [
       "<matplotlib.figure.Figure at 0x1f340a852b0>"
      ]
     },
     "metadata": {},
     "output_type": "display_data"
    }
   ],
   "source": [
    "razredi.mean()['hitrost'].plot.bar(y='višinski_metri_na_minuto')"
   ]
  },
  {
   "cell_type": "markdown",
   "metadata": {},
   "source": [
    "Očitno je, da pri majhnih višinskih razlikah višino pridobivamo počasi, saj se gibljemo bolj vodoravno. Opazimo tudi, da so poleg teh odstopanj hitrosti precej podobne, kar lahko kaže na to, da je čas hoje na hribi.net preračunan glede na višinsko razliko."
   ]
  },
  {
   "cell_type": "markdown",
   "metadata": {},
   "source": [
    "Zdaj nas zanima, kako dobro so označene poti v posameznem razredu nadmorske višine cilja. Cilji so razdeljeni v razrede nadmorskih višin, prvi graf pa prikazuje, na kolikšen delež ciljev v posameznem razredu vodi označena pot. Drugi graf enostavno prikaže število označenih poti na cilje v višinskem razredu cilja."
   ]
  },
  {
   "cell_type": "code",
   "execution_count": 33,
   "metadata": {
    "collapsed": true
   },
   "outputs": [],
   "source": [
    "izleti['razred_cilja'] = (izleti.višina_cilja // 100) * 100"
   ]
  },
  {
   "cell_type": "code",
   "execution_count": 34,
   "metadata": {},
   "outputs": [
    {
     "data": {
      "text/plain": [
       "<matplotlib.axes._subplots.AxesSubplot at 0x1f340ae5a90>"
      ]
     },
     "execution_count": 34,
     "metadata": {},
     "output_type": "execute_result"
    },
    {
     "data": {
      "image/png": "[encoded data removed]",
      "text/plain": [
       "<matplotlib.figure.Figure at 0x1f340b1bc18>"
      ]
     },
     "metadata": {},
     "output_type": "display_data"
    }
   ],
   "source": [
    "dostopnost_cilja['razred_cilja'] = (dostopnost_cilja.višina_cilja // 100) * 100\n",
    "dostopnost = dostopnost_cilja[\n",
    "    dostopnost_cilja['označena pot']==True\n",
    "].groupby('razred_cilja').size() / dostopnost_cilja.groupby('razred_cilja').size()\n",
    "dostopnost.plot.bar()"
   ]
  },
  {
   "cell_type": "code",
   "execution_count": 35,
   "metadata": {},
   "outputs": [
    {
     "data": {
      "text/plain": [
       "<matplotlib.axes._subplots.AxesSubplot at 0x1f340b76908>"
      ]
     },
     "execution_count": 35,
     "metadata": {},
     "output_type": "execute_result"
    },
    {
     "data": {
      "image/png": "[encoded data removed]",
      "text/plain": [
       "<matplotlib.figure.Figure at 0x1f340ad0710>"
      ]
     },
     "metadata": {},
     "output_type": "display_data"
    }
   ],
   "source": [
    "dostopnost_cilja[\n",
    "    dostopnost_cilja['označena pot']==True\n",
    "].groupby('razred_cilja').size().plot.bar()"
   ]
  },
  {
   "cell_type": "markdown",
   "metadata": {},
   "source": [
    "Očitno se na vse cilje v razredu 2700 in 2800 (to so le Mali Triglav, Škrlatica in Triglav) lahko povzpnemo po označeni poti.\n",
    "\n",
    "\n",
    "Spodnji graf prikazuje še povprečno označenost poti v istih razredih."
   ]
  },
  {
   "cell_type": "code",
   "execution_count": 36,
   "metadata": {},
   "outputs": [
    {
     "data": {
      "text/plain": [
       "<matplotlib.axes._subplots.AxesSubplot at 0x1f340badf28>"
      ]
     },
     "execution_count": 36,
     "metadata": {},
     "output_type": "execute_result"
    },
    {
     "data": {
      "image/png": "[encoded data removed]",
      "text/plain": [
       "<matplotlib.figure.Figure at 0x1f340c1f320>"
      ]
     },
     "metadata": {},
     "output_type": "display_data"
    }
   ],
   "source": [
    "izleti.groupby('razred_cilja').mean()['označena pot'].plot.bar()"
   ]
  },
  {
   "cell_type": "markdown",
   "metadata": {},
   "source": [
    "Pri nižji nadmorski višini je torej manjši odstotek poti označen. Podatek je precej povezan z ugotovitvami naslednjega razdelka."
   ]
  },
  {
   "cell_type": "markdown",
   "metadata": {},
   "source": [
    "### Zanimanje za posamezen višinski razred"
   ]
  },
  {
   "cell_type": "markdown",
   "metadata": {},
   "source": [
    "Zdaj nas zanima, koliko je ogledov izletov določenega višinskega razreda. Radi bi videli, o kakšnih izletih se ljudje največkrat pozanimajo. Sklepam, da je največ ogledov tam, kjer je največ izletov, torej okrog višinske razlike 1500, zato bomo izračunali povprečno število ogledov na izlet glede na višinski razred."
   ]
  },
  {
   "cell_type": "code",
   "execution_count": 37,
   "metadata": {},
   "outputs": [
    {
     "data": {
      "text/plain": [
       "<matplotlib.axes._subplots.AxesSubplot at 0x1f340c8b828>"
      ]
     },
     "execution_count": 37,
     "metadata": {},
     "output_type": "execute_result"
    },
    {
     "data": {
      "image/png": "[encoded data removed]",
      "text/plain": [
       "<matplotlib.figure.Figure at 0x1f340c0eef0>"
      ]
     },
     "metadata": {},
     "output_type": "display_data"
    }
   ],
   "source": [
    "zanimivi = izleti[izleti.število_ogledov > 4000]\n",
    "zanimivi_razredi = zanimivi.groupby('višinski_razred')\n",
    "(zanimivi_razredi.sum()['število_ogledov'] / zanimivi_razredi.size()).plot.bar()"
   ]
  },
  {
   "cell_type": "markdown",
   "metadata": {},
   "source": [
    "Pričakovano je največ zanimanja za izlete z najvišjo višinsko razliko, saj je v tem razredu Triglav, naša najbolj mikavna gora.\n",
    "\n",
    "Morda bomo lepši vzorec dobili, če izračunamo število ogledov posameznega višinskega razreda cilja."
   ]
  },
  {
   "cell_type": "code",
   "execution_count": 38,
   "metadata": {},
   "outputs": [
    {
     "data": {
      "text/plain": [
       "<matplotlib.axes._subplots.AxesSubplot at 0x1f340d2db00>"
      ]
     },
     "execution_count": 38,
     "metadata": {},
     "output_type": "execute_result"
    },
    {
     "data": {
      "image/png": "[encoded data removed]",
      "text/plain": [
       "<matplotlib.figure.Figure at 0x1f340c55c50>"
      ]
     },
     "metadata": {},
     "output_type": "display_data"
    }
   ],
   "source": [
    "(zanimivi.groupby('razred_cilja').mean()['število_ogledov']).plot.bar()"
   ]
  },
  {
   "cell_type": "markdown",
   "metadata": {},
   "source": [
    "Tu lepo vidimo, da je največ zanimanja za najvišje izlete, zopet je to pričakovano zaradi Triglava.\n",
    "\n",
    "Poglejmo si še, kako sta odvisna ocena izleta in višinski razred."
   ]
  },
  {
   "cell_type": "code",
   "execution_count": 39,
   "metadata": {},
   "outputs": [
    {
     "data": {
      "text/plain": [
       "<matplotlib.axes._subplots.AxesSubplot at 0x1f340dbf2e8>"
      ]
     },
     "execution_count": 39,
     "metadata": {},
     "output_type": "execute_result"
    },
    {
     "data": {
      "image/png": "[encoded data removed]",
      "text/plain": [
       "<matplotlib.figure.Figure at 0x1f340d41240>"
      ]
     },
     "metadata": {},
     "output_type": "display_data"
    }
   ],
   "source": [
    "uporabni = izleti[izleti.število_glasov > 4]\n",
    "uporabni.groupby('višinski_razred').mean()['ocena'].plot.bar()"
   ]
  },
  {
   "cell_type": "markdown",
   "metadata": {},
   "source": [
    "Ne ravno zanimiv, pa vendar zgovoren zaključek je, da ocena ni odvisna od višinskega razreda."
   ]
  },
  {
   "cell_type": "markdown",
   "metadata": {},
   "source": [
    "## Zaključek"
   ]
  },
  {
   "cell_type": "markdown",
   "metadata": {},
   "source": [
    "Kljub temu da je portal hribi.net precej manj obiskan kot drugi možni viri podatkov, se iz njega da razbrati marsikaj zanimivega. Ena bolj zanimivih ugotovitev je, da hitrost vzpenjanja ni odvisna od višinske razlike. Prebral sem podatek, da pri planinarjenjum moramo računati, da nam 300 m višinske razlike vzame eno uro, kar precej sovpada s časom, ki ga ponudi portal hribi.net. Torej upravičeno sklepamo, da je ta izračun vir informacije o času hoje.\n",
    "\n",
    "Druga precej zanimiva tema je označenost poti. Ta je najboljša v najvišjih predelih, kar je precej smiselno, saj je v tem višinskem razredu manj poti, ki pa so skoraj vse označene, saj je neoznačenost na 2800 metrih mnogo manj ustrezna kot označenost na 2000 metrih. Prav tako so poti na naše najvišje vrhove že dodobra razdelane (in zdelane).\n",
    "\n",
    "Tretja zanimiva ugotovitev pa je, da so podatki s strani hribi.net na pogled precej naključni. Ocene poti so na primer povsem nelogično razporejene, prav tako časi in zahtevnosti. Najboljša ugotovitev, ki jo lahko izvlečem iz tega, je, da so izleti na naše gore vsak na svoj način posebni in eden ni enak drugemu."
   ]
  }
 ],
 "metadata": {
  "kernelspec": {
   "display_name": "Python 3",
   "language": "python",
   "name": "python3"
  },
  "language_info": {
   "codemirror_mode": {
    "name": "ipython",
    "version": 3
   },
   "file_extension": ".py",
   "mimetype": "text/x-python",
   "name": "python",
   "nbconvert_exporter": "python",
   "pygments_lexer": "ipython3",
   "version": "3.6.3"
  }
 },
 "nbformat": 4,
 "nbformat_minor": 2
}
